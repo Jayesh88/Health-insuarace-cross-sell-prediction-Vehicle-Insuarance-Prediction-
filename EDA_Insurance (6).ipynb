{
 "cells": [
  {
   "cell_type": "code",
   "execution_count": 1,
   "metadata": {},
   "outputs": [],
   "source": [
    "import pandas as pd\n",
    "from hdfs import InsecureClient\n",
    "import os\n",
    "from pyspark.sql import SparkSession\n",
    "import matplotlib.pyplot as plt\n",
    "import seaborn as sns"
   ]
  },
  {
   "cell_type": "code",
   "execution_count": 2,
   "metadata": {},
   "outputs": [],
   "source": [
    "sparkSession = SparkSession.builder.appName(\"EDA Vehicle Insurance\").getOrCreate()\n",
    "client_hdfs = InsecureClient('hdfs://localhost:9820')"
   ]
  },
  {
   "cell_type": "code",
   "execution_count": 3,
   "metadata": {},
   "outputs": [
    {
     "name": "stdout",
     "output_type": "stream",
     "text": [
      "+---+------+---+---------------+-----------+------------------+-----------+--------------+--------------+--------------------+-------+--------+\n",
      "| id|Gender|Age|Driving_License|Region_Code|Previously_Insured|Vehicle_Age|Vehicle_Damage|Annual_Premium|Policy_Sales_Channel|Vintage|Response|\n",
      "+---+------+---+---------------+-----------+------------------+-----------+--------------+--------------+--------------------+-------+--------+\n",
      "|  1|  Male| 44|              1|         28|                 0|  > 2 Years|           Yes|         40454|                  26|    217|       1|\n",
      "|  2|  Male| 76|              1|          3|                 0|   1-2 Year|            No|         33536|                  26|    183|       0|\n",
      "|  3|  Male| 47|              1|         28|                 0|  > 2 Years|           Yes|         38294|                  26|     27|       1|\n",
      "|  4|  Male| 21|              1|         11|                 1|   < 1 Year|            No|         28619|                 152|    203|       0|\n",
      "|  5|Female| 29|              1|         41|                 1|   < 1 Year|            No|         27496|                 152|     39|       0|\n",
      "|  6|Female| 24|              1|         33|                 0|   < 1 Year|           Yes|          2630|                 160|    176|       0|\n",
      "|  7|  Male| 23|              1|         11|                 0|   < 1 Year|           Yes|         23367|                 152|    249|       0|\n",
      "|  8|Female| 56|              1|         28|                 0|   1-2 Year|           Yes|         32031|                  26|     72|       1|\n",
      "|  9|Female| 24|              1|          3|                 1|   < 1 Year|            No|         27619|                 152|     28|       0|\n",
      "| 10|Female| 32|              1|          6|                 1|   < 1 Year|            No|         28771|                 152|     80|       0|\n",
      "| 11|Female| 47|              1|         35|                 0|   1-2 Year|           Yes|         47576|                 124|     46|       1|\n",
      "| 12|Female| 24|              1|         50|                 1|   < 1 Year|            No|         48699|                 152|    289|       0|\n",
      "| 13|Female| 41|              1|         15|                 1|   1-2 Year|            No|         31409|                  14|    221|       0|\n",
      "| 14|  Male| 76|              1|         28|                 0|   1-2 Year|           Yes|         36770|                  13|     15|       0|\n",
      "| 15|  Male| 71|              1|         28|                 1|   1-2 Year|            No|         46818|                  30|     58|       0|\n",
      "| 16|  Male| 37|              1|          6|                 0|   1-2 Year|           Yes|          2630|                 156|    147|       1|\n",
      "| 17|Female| 25|              1|         45|                 0|   < 1 Year|           Yes|         26218|                 160|    256|       0|\n",
      "| 18|Female| 25|              1|         35|                 1|   < 1 Year|            No|         46622|                 152|    299|       0|\n",
      "| 19|  Male| 42|              1|         28|                 0|   1-2 Year|           Yes|         33667|                 124|    158|       0|\n",
      "| 20|Female| 60|              1|         33|                 0|   1-2 Year|           Yes|         32363|                 124|    102|       1|\n",
      "+---+------+---+---------------+-----------+------------------+-----------+--------------+--------------+--------------------+-------+--------+\n",
      "only showing top 20 rows\n",
      "\n"
     ]
    }
   ],
   "source": [
    "df = sparkSession.read.csv('hdfs://localhost:9820/test/Merge.csv', header=True, inferSchema= True)\n",
    "df.show()"
   ]
  },
  {
   "cell_type": "code",
   "execution_count": 4,
   "metadata": {},
   "outputs": [
    {
     "data": {
      "text/html": [
       "<div>\n",
       "<style scoped>\n",
       "    .dataframe tbody tr th:only-of-type {\n",
       "        vertical-align: middle;\n",
       "    }\n",
       "\n",
       "    .dataframe tbody tr th {\n",
       "        vertical-align: top;\n",
       "    }\n",
       "\n",
       "    .dataframe thead th {\n",
       "        text-align: right;\n",
       "    }\n",
       "</style>\n",
       "<table border=\"1\" class=\"dataframe\">\n",
       "  <thead>\n",
       "    <tr style=\"text-align: right;\">\n",
       "      <th></th>\n",
       "      <th>id</th>\n",
       "      <th>Gender</th>\n",
       "      <th>Age</th>\n",
       "      <th>Driving_License</th>\n",
       "      <th>Region_Code</th>\n",
       "      <th>Previously_Insured</th>\n",
       "      <th>Vehicle_Age</th>\n",
       "      <th>Vehicle_Damage</th>\n",
       "      <th>Annual_Premium</th>\n",
       "      <th>Policy_Sales_Channel</th>\n",
       "      <th>Vintage</th>\n",
       "      <th>Response</th>\n",
       "    </tr>\n",
       "  </thead>\n",
       "  <tbody>\n",
       "    <tr>\n",
       "      <th>0</th>\n",
       "      <td>1</td>\n",
       "      <td>Male</td>\n",
       "      <td>44</td>\n",
       "      <td>1</td>\n",
       "      <td>28</td>\n",
       "      <td>0</td>\n",
       "      <td>&gt; 2 Years</td>\n",
       "      <td>Yes</td>\n",
       "      <td>40454</td>\n",
       "      <td>26</td>\n",
       "      <td>217</td>\n",
       "      <td>1</td>\n",
       "    </tr>\n",
       "    <tr>\n",
       "      <th>1</th>\n",
       "      <td>2</td>\n",
       "      <td>Male</td>\n",
       "      <td>76</td>\n",
       "      <td>1</td>\n",
       "      <td>3</td>\n",
       "      <td>0</td>\n",
       "      <td>1-2 Year</td>\n",
       "      <td>No</td>\n",
       "      <td>33536</td>\n",
       "      <td>26</td>\n",
       "      <td>183</td>\n",
       "      <td>0</td>\n",
       "    </tr>\n",
       "    <tr>\n",
       "      <th>2</th>\n",
       "      <td>3</td>\n",
       "      <td>Male</td>\n",
       "      <td>47</td>\n",
       "      <td>1</td>\n",
       "      <td>28</td>\n",
       "      <td>0</td>\n",
       "      <td>&gt; 2 Years</td>\n",
       "      <td>Yes</td>\n",
       "      <td>38294</td>\n",
       "      <td>26</td>\n",
       "      <td>27</td>\n",
       "      <td>1</td>\n",
       "    </tr>\n",
       "    <tr>\n",
       "      <th>3</th>\n",
       "      <td>4</td>\n",
       "      <td>Male</td>\n",
       "      <td>21</td>\n",
       "      <td>1</td>\n",
       "      <td>11</td>\n",
       "      <td>1</td>\n",
       "      <td>&lt; 1 Year</td>\n",
       "      <td>No</td>\n",
       "      <td>28619</td>\n",
       "      <td>152</td>\n",
       "      <td>203</td>\n",
       "      <td>0</td>\n",
       "    </tr>\n",
       "    <tr>\n",
       "      <th>4</th>\n",
       "      <td>5</td>\n",
       "      <td>Female</td>\n",
       "      <td>29</td>\n",
       "      <td>1</td>\n",
       "      <td>41</td>\n",
       "      <td>1</td>\n",
       "      <td>&lt; 1 Year</td>\n",
       "      <td>No</td>\n",
       "      <td>27496</td>\n",
       "      <td>152</td>\n",
       "      <td>39</td>\n",
       "      <td>0</td>\n",
       "    </tr>\n",
       "  </tbody>\n",
       "</table>\n",
       "</div>"
      ],
      "text/plain": [
       "   id  Gender  Age  Driving_License  Region_Code  Previously_Insured  \\\n",
       "0   1    Male   44                1           28                   0   \n",
       "1   2    Male   76                1            3                   0   \n",
       "2   3    Male   47                1           28                   0   \n",
       "3   4    Male   21                1           11                   1   \n",
       "4   5  Female   29                1           41                   1   \n",
       "\n",
       "  Vehicle_Age Vehicle_Damage  Annual_Premium  Policy_Sales_Channel  Vintage  \\\n",
       "0   > 2 Years            Yes           40454                    26      217   \n",
       "1    1-2 Year             No           33536                    26      183   \n",
       "2   > 2 Years            Yes           38294                    26       27   \n",
       "3    < 1 Year             No           28619                   152      203   \n",
       "4    < 1 Year             No           27496                   152       39   \n",
       "\n",
       "   Response  \n",
       "0         1  \n",
       "1         0  \n",
       "2         1  \n",
       "3         0  \n",
       "4         0  "
      ]
     },
     "execution_count": 4,
     "metadata": {},
     "output_type": "execute_result"
    }
   ],
   "source": [
    "result_df = df.select(\"*\").toPandas()\n",
    "result_df.head()"
   ]
  },
  {
   "cell_type": "code",
   "execution_count": 5,
   "metadata": {},
   "outputs": [
    {
     "name": "stdout",
     "output_type": "stream",
     "text": [
      "id                       int32\n",
      "Gender                  object\n",
      "Age                      int32\n",
      "Driving_License          int32\n",
      "Region_Code              int32\n",
      "Previously_Insured       int32\n",
      "Vehicle_Age             object\n",
      "Vehicle_Damage          object\n",
      "Annual_Premium           int32\n",
      "Policy_Sales_Channel     int32\n",
      "Vintage                  int32\n",
      "Response                 int32\n",
      "dtype: object\n",
      "id                      False\n",
      "Gender                  False\n",
      "Age                     False\n",
      "Driving_License         False\n",
      "Region_Code             False\n",
      "Previously_Insured      False\n",
      "Vehicle_Age             False\n",
      "Vehicle_Damage          False\n",
      "Annual_Premium          False\n",
      "Policy_Sales_Channel    False\n",
      "Vintage                 False\n",
      "Response                False\n",
      "dtype: bool\n",
      "id                      0\n",
      "Gender                  0\n",
      "Age                     0\n",
      "Driving_License         0\n",
      "Region_Code             0\n",
      "Previously_Insured      0\n",
      "Vehicle_Age             0\n",
      "Vehicle_Damage          0\n",
      "Annual_Premium          0\n",
      "Policy_Sales_Channel    0\n",
      "Vintage                 0\n",
      "Response                0\n",
      "dtype: int64\n"
     ]
    }
   ],
   "source": [
    "print(result_df.dtypes)\n",
    "print(result_df.isnull().any())\n",
    "print(result_df.isnull().sum())"
   ]
  },
  {
   "cell_type": "code",
   "execution_count": 6,
   "metadata": {},
   "outputs": [
    {
     "data": {
      "image/png": "[encoded data removed]",
      "text/plain": [
       "<Figure size 432x288 with 1 Axes>"
      ]
     },
     "metadata": {
      "needs_background": "light"
     },
     "output_type": "display_data"
    }
   ],
   "source": [
    "graph = sns.countplot(result_df.Gender)\n",
    "graph.set_xticklabels(graph.get_xticklabels())\n",
    "i=0\n",
    "for p in graph.patches:\n",
    "    height = p.get_height()\n",
    "    graph.text(p.get_x()+p.get_width()/2., height + 0.1,\n",
    "        result_df['Gender'].value_counts()[i],ha=\"center\")\n",
    "    i += 1"
   ]
  },
  {
   "cell_type": "code",
   "execution_count": 7,
   "metadata": {},
   "outputs": [
    {
     "data": {
      "image/png": "[encoded data removed]",
      "text/plain": [
       "<Figure size 432x288 with 1 Axes>"
      ]
     },
     "metadata": {
      "needs_background": "light"
     },
     "output_type": "display_data"
    }
   ],
   "source": [
    "graph = sns.countplot(result_df.Vehicle_Age)\n",
    "graph.set_xticklabels(graph.get_xticklabels())\n",
    "i=0\n",
    "for p in graph.patches:\n",
    "    height = p.get_height()\n",
    "    graph.text(p.get_x()+p.get_width()/2., height + 0.1,\n",
    "        result_df['Vehicle_Age'].value_counts()[i],ha=\"center\")\n",
    "    i += 1"
   ]
  },
  {
   "cell_type": "code",
   "execution_count": 8,
   "metadata": {},
   "outputs": [
    {
     "data": {
      "image/png": "[encoded data removed]",
      "text/plain": [
       "<Figure size 432x288 with 1 Axes>"
      ]
     },
     "metadata": {
      "needs_background": "light"
     },
     "output_type": "display_data"
    }
   ],
   "source": [
    "graph = sns.countplot(result_df.Vehicle_Damage)\n",
    "graph.set_xticklabels(graph.get_xticklabels())\n",
    "i=0\n",
    "for p in graph.patches:\n",
    "    height = p.get_height()\n",
    "    graph.text(p.get_x()+p.get_width()/2., height + 0.1,\n",
    "        result_df['Vehicle_Damage'].value_counts()[i],ha=\"center\")\n",
    "    i += 1"
   ]
  },
  {
   "cell_type": "code",
   "execution_count": 9,
   "metadata": {},
   "outputs": [
    {
     "data": {
      "text/plain": [
       "<matplotlib.axes._subplots.AxesSubplot at 0x22528afa3d0>"
      ]
     },
     "execution_count": 9,
     "metadata": {},
     "output_type": "execute_result"
    },
    {
     "data": {
      "image/png": "[encoded data removed]",
      "text/plain": [
       "<Figure size 432x288 with 1 Axes>"
      ]
     },
     "metadata": {
      "needs_background": "light"
     },
     "output_type": "display_data"
    }
   ],
   "source": [
    "sns.distplot(result_df.Age)"
   ]
  },
  {
   "cell_type": "code",
   "execution_count": 10,
   "metadata": {},
   "outputs": [
    {
     "data": {
      "text/plain": [
       "<matplotlib.axes._subplots.AxesSubplot at 0x225247cdd30>"
      ]
     },
     "execution_count": 10,
     "metadata": {},
     "output_type": "execute_result"
    },
    {
     "data": {
      "image/png": "[encoded data removed]",
      "text/plain": [
       "<Figure size 432x288 with 1 Axes>"
      ]
     },
     "metadata": {
      "needs_background": "light"
     },
     "output_type": "display_data"
    }
   ],
   "source": [
    "sns.distplot(result_df.Annual_Premium)"
   ]
  },
  {
   "cell_type": "code",
   "execution_count": 11,
   "metadata": {},
   "outputs": [
    {
     "name": "stdout",
     "output_type": "stream",
     "text": [
      "  Vehicle_Damage  Response  Sum of Response\n",
      "0             No         0           250916\n",
      "1            Yes         0           210520\n",
      "2            Yes         1            45728\n",
      "3             No         1              982\n",
      "   Previously_Insured  Response  Sum of Response\n",
      "0                   1         0           232912\n",
      "1                   0         0           228524\n",
      "2                   0         1            46552\n",
      "3                   1         1              158\n",
      "   Gender  Response  Sum of Response\n",
      "0    Male         0           245800\n",
      "1  Female         0           215636\n",
      "2    Male         1            28525\n",
      "3  Female         1            18185\n"
     ]
    }
   ],
   "source": [
    "a=result_df.groupby(['Vehicle_Damage','Response']).size().sort_values(ascending=False).reset_index(name='Sum of Response')\n",
    "b=result_df.groupby(['Previously_Insured','Response']).size().sort_values(ascending=False).reset_index(name='Sum of Response')\n",
    "c=result_df.groupby(['Gender','Response']).size().sort_values(ascending=False).reset_index(name='Sum of Response')\n",
    "print(a)\n",
    "print(b)\n",
    "print(c)"
   ]
  },
  {
   "cell_type": "code",
   "execution_count": 12,
   "metadata": {},
   "outputs": [
    {
     "data": {
      "image/png": "[encoded data removed]",
      "text/plain": [
       "<Figure size 403.2x288 with 2 Axes>"
      ]
     },
     "metadata": {
      "needs_background": "light"
     },
     "output_type": "display_data"
    }
   ],
   "source": [
    "graph = sns.catplot(x=\"Vehicle_Damage\", y=\"Sum of Response\",col=\"Response\",\n",
    "                data=a, kind=\"bar\",\n",
    "                height=4, aspect=.7);\n"
   ]
  },
  {
   "cell_type": "code",
   "execution_count": 13,
   "metadata": {},
   "outputs": [
    {
     "data": {
      "image/png": "[encoded data removed]",
      "text/plain": [
       "<Figure size 403.2x288 with 2 Axes>"
      ]
     },
     "metadata": {
      "needs_background": "light"
     },
     "output_type": "display_data"
    }
   ],
   "source": [
    "graph = sns.catplot(x=\"Previously_Insured\", y=\"Sum of Response\",col=\"Response\",\n",
    "                data=b, kind=\"bar\",\n",
    "                height=4, aspect=.7);"
   ]
  },
  {
   "cell_type": "code",
   "execution_count": 14,
   "metadata": {},
   "outputs": [
    {
     "data": {
      "image/png": "[encoded data removed]",
      "text/plain": [
       "<Figure size 403.2x288 with 2 Axes>"
      ]
     },
     "metadata": {
      "needs_background": "light"
     },
     "output_type": "display_data"
    }
   ],
   "source": [
    "graph = sns.catplot(x=\"Gender\", y=\"Sum of Response\",col=\"Response\",\n",
    "                data=c, kind=\"bar\",\n",
    "                height=4, aspect=.7);"
   ]
  },
  {
   "cell_type": "code",
   "execution_count": 15,
   "metadata": {},
   "outputs": [
    {
     "data": {
      "text/plain": [
       "array(['> 2 Years', '1-2 Year', '< 1 Year'], dtype=object)"
      ]
     },
     "execution_count": 15,
     "metadata": {},
     "output_type": "execute_result"
    }
   ],
   "source": [
    "result_df.Vehicle_Age.unique()"
   ]
  },
  {
   "cell_type": "code",
   "execution_count": 16,
   "metadata": {},
   "outputs": [
    {
     "name": "stderr",
     "output_type": "stream",
     "text": [
      "<ipython-input-16-8f978a608a47>:1: SettingWithCopyWarning: \n",
      "A value is trying to be set on a copy of a slice from a DataFrame\n",
      "\n",
      "See the caveats in the documentation: https://pandas.pydata.org/pandas-docs/stable/user_guide/indexing.html#returning-a-view-versus-a-copy\n",
      "  result_df.Gender[result_df.Gender == 'Male'] = 1\n",
      "<ipython-input-16-8f978a608a47>:2: SettingWithCopyWarning: \n",
      "A value is trying to be set on a copy of a slice from a DataFrame\n",
      "\n",
      "See the caveats in the documentation: https://pandas.pydata.org/pandas-docs/stable/user_guide/indexing.html#returning-a-view-versus-a-copy\n",
      "  result_df.Gender[result_df.Gender == 'Female'] = 0\n",
      "<ipython-input-16-8f978a608a47>:4: SettingWithCopyWarning: \n",
      "A value is trying to be set on a copy of a slice from a DataFrame\n",
      "\n",
      "See the caveats in the documentation: https://pandas.pydata.org/pandas-docs/stable/user_guide/indexing.html#returning-a-view-versus-a-copy\n",
      "  result_df.Vehicle_Damage[result_df.Vehicle_Damage == 'Yes'] = 1\n",
      "<ipython-input-16-8f978a608a47>:5: SettingWithCopyWarning: \n",
      "A value is trying to be set on a copy of a slice from a DataFrame\n",
      "\n",
      "See the caveats in the documentation: https://pandas.pydata.org/pandas-docs/stable/user_guide/indexing.html#returning-a-view-versus-a-copy\n",
      "  result_df.Vehicle_Damage[result_df.Vehicle_Damage == 'No'] = 0\n"
     ]
    }
   ],
   "source": [
    "result_df.Gender[result_df.Gender == 'Male'] = 1\n",
    "result_df.Gender[result_df.Gender == 'Female'] = 0\n",
    "\n",
    "result_df.Vehicle_Damage[result_df.Vehicle_Damage == 'Yes'] = 1\n",
    "result_df.Vehicle_Damage[result_df.Vehicle_Damage == 'No'] = 0\n",
    "\n",
    "result_df['Gender'] = result_df['Gender'].astype(int)\n",
    "result_df['Vehicle_Damage'] = result_df['Vehicle_Damage'].astype(int)"
   ]
  },
  {
   "cell_type": "code",
   "execution_count": 17,
   "metadata": {},
   "outputs": [
    {
     "data": {
      "text/html": [
       "<div>\n",
       "<style scoped>\n",
       "    .dataframe tbody tr th:only-of-type {\n",
       "        vertical-align: middle;\n",
       "    }\n",
       "\n",
       "    .dataframe tbody tr th {\n",
       "        vertical-align: top;\n",
       "    }\n",
       "\n",
       "    .dataframe thead th {\n",
       "        text-align: right;\n",
       "    }\n",
       "</style>\n",
       "<table border=\"1\" class=\"dataframe\">\n",
       "  <thead>\n",
       "    <tr style=\"text-align: right;\">\n",
       "      <th></th>\n",
       "      <th>id</th>\n",
       "      <th>Gender</th>\n",
       "      <th>Age</th>\n",
       "      <th>Driving_License</th>\n",
       "      <th>Region_Code</th>\n",
       "      <th>Previously_Insured</th>\n",
       "      <th>Vehicle_Age</th>\n",
       "      <th>Vehicle_Damage</th>\n",
       "      <th>Annual_Premium</th>\n",
       "      <th>Policy_Sales_Channel</th>\n",
       "      <th>Vintage</th>\n",
       "      <th>Response</th>\n",
       "    </tr>\n",
       "  </thead>\n",
       "  <tbody>\n",
       "    <tr>\n",
       "      <th>0</th>\n",
       "      <td>1</td>\n",
       "      <td>1</td>\n",
       "      <td>44</td>\n",
       "      <td>1</td>\n",
       "      <td>28</td>\n",
       "      <td>0</td>\n",
       "      <td>&gt; 2 Years</td>\n",
       "      <td>1</td>\n",
       "      <td>40454</td>\n",
       "      <td>26</td>\n",
       "      <td>217</td>\n",
       "      <td>1</td>\n",
       "    </tr>\n",
       "    <tr>\n",
       "      <th>1</th>\n",
       "      <td>2</td>\n",
       "      <td>1</td>\n",
       "      <td>76</td>\n",
       "      <td>1</td>\n",
       "      <td>3</td>\n",
       "      <td>0</td>\n",
       "      <td>1-2 Year</td>\n",
       "      <td>0</td>\n",
       "      <td>33536</td>\n",
       "      <td>26</td>\n",
       "      <td>183</td>\n",
       "      <td>0</td>\n",
       "    </tr>\n",
       "    <tr>\n",
       "      <th>2</th>\n",
       "      <td>3</td>\n",
       "      <td>1</td>\n",
       "      <td>47</td>\n",
       "      <td>1</td>\n",
       "      <td>28</td>\n",
       "      <td>0</td>\n",
       "      <td>&gt; 2 Years</td>\n",
       "      <td>1</td>\n",
       "      <td>38294</td>\n",
       "      <td>26</td>\n",
       "      <td>27</td>\n",
       "      <td>1</td>\n",
       "    </tr>\n",
       "    <tr>\n",
       "      <th>3</th>\n",
       "      <td>4</td>\n",
       "      <td>1</td>\n",
       "      <td>21</td>\n",
       "      <td>1</td>\n",
       "      <td>11</td>\n",
       "      <td>1</td>\n",
       "      <td>&lt; 1 Year</td>\n",
       "      <td>0</td>\n",
       "      <td>28619</td>\n",
       "      <td>152</td>\n",
       "      <td>203</td>\n",
       "      <td>0</td>\n",
       "    </tr>\n",
       "    <tr>\n",
       "      <th>4</th>\n",
       "      <td>5</td>\n",
       "      <td>0</td>\n",
       "      <td>29</td>\n",
       "      <td>1</td>\n",
       "      <td>41</td>\n",
       "      <td>1</td>\n",
       "      <td>&lt; 1 Year</td>\n",
       "      <td>0</td>\n",
       "      <td>27496</td>\n",
       "      <td>152</td>\n",
       "      <td>39</td>\n",
       "      <td>0</td>\n",
       "    </tr>\n",
       "  </tbody>\n",
       "</table>\n",
       "</div>"
      ],
      "text/plain": [
       "   id  Gender  Age  Driving_License  Region_Code  Previously_Insured  \\\n",
       "0   1       1   44                1           28                   0   \n",
       "1   2       1   76                1            3                   0   \n",
       "2   3       1   47                1           28                   0   \n",
       "3   4       1   21                1           11                   1   \n",
       "4   5       0   29                1           41                   1   \n",
       "\n",
       "  Vehicle_Age  Vehicle_Damage  Annual_Premium  Policy_Sales_Channel  Vintage  \\\n",
       "0   > 2 Years               1           40454                    26      217   \n",
       "1    1-2 Year               0           33536                    26      183   \n",
       "2   > 2 Years               1           38294                    26       27   \n",
       "3    < 1 Year               0           28619                   152      203   \n",
       "4    < 1 Year               0           27496                   152       39   \n",
       "\n",
       "   Response  \n",
       "0         1  \n",
       "1         0  \n",
       "2         1  \n",
       "3         0  \n",
       "4         0  "
      ]
     },
     "execution_count": 17,
     "metadata": {},
     "output_type": "execute_result"
    }
   ],
   "source": [
    "result_df.head()"
   ]
  },
  {
   "cell_type": "code",
   "execution_count": 18,
   "metadata": {},
   "outputs": [],
   "source": [
    "from sklearn.preprocessing import LabelEncoder\n",
    "labelencoder = LabelEncoder()\n",
    "result_df['Vehicle_Age'] = labelencoder.fit_transform(result_df['Vehicle_Age'])"
   ]
  },
  {
   "cell_type": "code",
   "execution_count": 19,
   "metadata": {},
   "outputs": [
    {
     "data": {
      "text/html": [
       "<div>\n",
       "<style scoped>\n",
       "    .dataframe tbody tr th:only-of-type {\n",
       "        vertical-align: middle;\n",
       "    }\n",
       "\n",
       "    .dataframe tbody tr th {\n",
       "        vertical-align: top;\n",
       "    }\n",
       "\n",
       "    .dataframe thead th {\n",
       "        text-align: right;\n",
       "    }\n",
       "</style>\n",
       "<table border=\"1\" class=\"dataframe\">\n",
       "  <thead>\n",
       "    <tr style=\"text-align: right;\">\n",
       "      <th></th>\n",
       "      <th>id</th>\n",
       "      <th>Gender</th>\n",
       "      <th>Age</th>\n",
       "      <th>Driving_License</th>\n",
       "      <th>Region_Code</th>\n",
       "      <th>Previously_Insured</th>\n",
       "      <th>Vehicle_Age</th>\n",
       "      <th>Vehicle_Damage</th>\n",
       "      <th>Annual_Premium</th>\n",
       "      <th>Policy_Sales_Channel</th>\n",
       "      <th>Vintage</th>\n",
       "      <th>Response</th>\n",
       "    </tr>\n",
       "  </thead>\n",
       "  <tbody>\n",
       "    <tr>\n",
       "      <th>0</th>\n",
       "      <td>1</td>\n",
       "      <td>1</td>\n",
       "      <td>44</td>\n",
       "      <td>1</td>\n",
       "      <td>28</td>\n",
       "      <td>0</td>\n",
       "      <td>2</td>\n",
       "      <td>1</td>\n",
       "      <td>40454</td>\n",
       "      <td>26</td>\n",
       "      <td>217</td>\n",
       "      <td>1</td>\n",
       "    </tr>\n",
       "    <tr>\n",
       "      <th>1</th>\n",
       "      <td>2</td>\n",
       "      <td>1</td>\n",
       "      <td>76</td>\n",
       "      <td>1</td>\n",
       "      <td>3</td>\n",
       "      <td>0</td>\n",
       "      <td>0</td>\n",
       "      <td>0</td>\n",
       "      <td>33536</td>\n",
       "      <td>26</td>\n",
       "      <td>183</td>\n",
       "      <td>0</td>\n",
       "    </tr>\n",
       "    <tr>\n",
       "      <th>2</th>\n",
       "      <td>3</td>\n",
       "      <td>1</td>\n",
       "      <td>47</td>\n",
       "      <td>1</td>\n",
       "      <td>28</td>\n",
       "      <td>0</td>\n",
       "      <td>2</td>\n",
       "      <td>1</td>\n",
       "      <td>38294</td>\n",
       "      <td>26</td>\n",
       "      <td>27</td>\n",
       "      <td>1</td>\n",
       "    </tr>\n",
       "    <tr>\n",
       "      <th>3</th>\n",
       "      <td>4</td>\n",
       "      <td>1</td>\n",
       "      <td>21</td>\n",
       "      <td>1</td>\n",
       "      <td>11</td>\n",
       "      <td>1</td>\n",
       "      <td>1</td>\n",
       "      <td>0</td>\n",
       "      <td>28619</td>\n",
       "      <td>152</td>\n",
       "      <td>203</td>\n",
       "      <td>0</td>\n",
       "    </tr>\n",
       "    <tr>\n",
       "      <th>4</th>\n",
       "      <td>5</td>\n",
       "      <td>0</td>\n",
       "      <td>29</td>\n",
       "      <td>1</td>\n",
       "      <td>41</td>\n",
       "      <td>1</td>\n",
       "      <td>1</td>\n",
       "      <td>0</td>\n",
       "      <td>27496</td>\n",
       "      <td>152</td>\n",
       "      <td>39</td>\n",
       "      <td>0</td>\n",
       "    </tr>\n",
       "  </tbody>\n",
       "</table>\n",
       "</div>"
      ],
      "text/plain": [
       "   id  Gender  Age  Driving_License  Region_Code  Previously_Insured  \\\n",
       "0   1       1   44                1           28                   0   \n",
       "1   2       1   76                1            3                   0   \n",
       "2   3       1   47                1           28                   0   \n",
       "3   4       1   21                1           11                   1   \n",
       "4   5       0   29                1           41                   1   \n",
       "\n",
       "   Vehicle_Age  Vehicle_Damage  Annual_Premium  Policy_Sales_Channel  Vintage  \\\n",
       "0            2               1           40454                    26      217   \n",
       "1            0               0           33536                    26      183   \n",
       "2            2               1           38294                    26       27   \n",
       "3            1               0           28619                   152      203   \n",
       "4            1               0           27496                   152       39   \n",
       "\n",
       "   Response  \n",
       "0         1  \n",
       "1         0  \n",
       "2         1  \n",
       "3         0  \n",
       "4         0  "
      ]
     },
     "execution_count": 19,
     "metadata": {},
     "output_type": "execute_result"
    }
   ],
   "source": [
    "result_df.head()"
   ]
  },
  {
   "cell_type": "code",
   "execution_count": 20,
   "metadata": {},
   "outputs": [
    {
     "data": {
      "text/html": [
       "<div>\n",
       "<style scoped>\n",
       "    .dataframe tbody tr th:only-of-type {\n",
       "        vertical-align: middle;\n",
       "    }\n",
       "\n",
       "    .dataframe tbody tr th {\n",
       "        vertical-align: top;\n",
       "    }\n",
       "\n",
       "    .dataframe thead th {\n",
       "        text-align: right;\n",
       "    }\n",
       "</style>\n",
       "<table border=\"1\" class=\"dataframe\">\n",
       "  <thead>\n",
       "    <tr style=\"text-align: right;\">\n",
       "      <th></th>\n",
       "      <th>Age</th>\n",
       "      <th>Region_Code</th>\n",
       "      <th>Annual_Premium</th>\n",
       "      <th>Vintage</th>\n",
       "    </tr>\n",
       "  </thead>\n",
       "  <tbody>\n",
       "    <tr>\n",
       "      <th>count</th>\n",
       "      <td>508146.000000</td>\n",
       "      <td>508146.000000</td>\n",
       "      <td>508146.000000</td>\n",
       "      <td>508146.000000</td>\n",
       "    </tr>\n",
       "    <tr>\n",
       "      <th>mean</th>\n",
       "      <td>38.808413</td>\n",
       "      <td>26.406572</td>\n",
       "      <td>30554.453041</td>\n",
       "      <td>154.340123</td>\n",
       "    </tr>\n",
       "    <tr>\n",
       "      <th>std</th>\n",
       "      <td>15.500179</td>\n",
       "      <td>13.224921</td>\n",
       "      <td>17146.574625</td>\n",
       "      <td>83.668793</td>\n",
       "    </tr>\n",
       "    <tr>\n",
       "      <th>min</th>\n",
       "      <td>20.000000</td>\n",
       "      <td>0.000000</td>\n",
       "      <td>2630.000000</td>\n",
       "      <td>10.000000</td>\n",
       "    </tr>\n",
       "    <tr>\n",
       "      <th>25%</th>\n",
       "      <td>25.000000</td>\n",
       "      <td>15.000000</td>\n",
       "      <td>24381.000000</td>\n",
       "      <td>82.000000</td>\n",
       "    </tr>\n",
       "    <tr>\n",
       "      <th>50%</th>\n",
       "      <td>36.000000</td>\n",
       "      <td>28.000000</td>\n",
       "      <td>31661.000000</td>\n",
       "      <td>154.000000</td>\n",
       "    </tr>\n",
       "    <tr>\n",
       "      <th>75%</th>\n",
       "      <td>49.000000</td>\n",
       "      <td>35.000000</td>\n",
       "      <td>39403.750000</td>\n",
       "      <td>227.000000</td>\n",
       "    </tr>\n",
       "    <tr>\n",
       "      <th>max</th>\n",
       "      <td>85.000000</td>\n",
       "      <td>52.000000</td>\n",
       "      <td>540165.000000</td>\n",
       "      <td>299.000000</td>\n",
       "    </tr>\n",
       "  </tbody>\n",
       "</table>\n",
       "</div>"
      ],
      "text/plain": [
       "                 Age    Region_Code  Annual_Premium        Vintage\n",
       "count  508146.000000  508146.000000   508146.000000  508146.000000\n",
       "mean       38.808413      26.406572    30554.453041     154.340123\n",
       "std        15.500179      13.224921    17146.574625      83.668793\n",
       "min        20.000000       0.000000     2630.000000      10.000000\n",
       "25%        25.000000      15.000000    24381.000000      82.000000\n",
       "50%        36.000000      28.000000    31661.000000     154.000000\n",
       "75%        49.000000      35.000000    39403.750000     227.000000\n",
       "max        85.000000      52.000000   540165.000000     299.000000"
      ]
     },
     "execution_count": 20,
     "metadata": {},
     "output_type": "execute_result"
    }
   ],
   "source": [
    "numerical_columns=['Age', 'Region_Code','Annual_Premium','Vintage']\n",
    "result_df[numerical_columns].describe()"
   ]
  },
  {
   "cell_type": "code",
   "execution_count": 21,
   "metadata": {},
   "outputs": [
    {
     "data": {
      "image/png": "[encoded data removed]",
      "text/plain": [
       "<Figure size 432x288 with 1 Axes>"
      ]
     },
     "metadata": {
      "needs_background": "light"
     },
     "output_type": "display_data"
    }
   ],
   "source": [
    "import matplotlib.pyplot as plt\n",
    "fig = plt.figure()\n",
    "# Create an axes instance\n",
    "ax = fig.add_axes([0,0,1,1])\n",
    "# Create the boxplot\n",
    "bp = ax.boxplot(result_df['Annual_Premium'])\n",
    "plt.xlabel(\"Annual_Premium\")\n",
    "plt.title(\"Boxplot Annual_Premium\")\n",
    "plt.show()"
   ]
  },
  {
   "cell_type": "code",
   "execution_count": 22,
   "metadata": {},
   "outputs": [],
   "source": [
    "import numpy as np\n",
    "outliers=[]\n",
    "def detect_outlier(data_1):\n",
    "    \n",
    "    threshold=3\n",
    "    mean_1 = np.mean(data_1)\n",
    "    std_1 =np.std(data_1)\n",
    "    \n",
    "    \n",
    "    for y in data_1:\n",
    "        z_score= (y - mean_1)/std_1 \n",
    "        if np.abs(z_score) > threshold:\n",
    "            outliers.append(y)\n",
    "    return outliers"
   ]
  },
  {
   "cell_type": "code",
   "execution_count": 23,
   "metadata": {},
   "outputs": [
    {
     "name": "stdout",
     "output_type": "stream",
     "text": [
      "[89282, 101021, 82705, 90789, 119735, 104002, 92716, 112974, 139130, 98002, 267698, 125643, 85786, 95217, 101064, 86283, 136061, 117799, 84142, 91520, 87273, 133098, 103026, 87831, 152331, 100688, 101069, 87954, 131469, 104529, 86336, 82081, 90024, 98428, 107966, 89687, 137771, 82470, 88368, 88577, 90967, 91670, 83846, 99793, 101048, 90046, 95554, 88825, 82932, 123745, 103372, 84943, 103758, 101716, 508073, 89480, 88129, 101904, 94900, 90526, 83368, 82085, 93104, 84472, 82144, 141770, 95569, 301762, 120037, 119148, 84077, 95258, 110204, 89463, 315565, 93104, 85772, 89902, 85670, 126671, 107748, 92211, 87105, 86793, 83912, 107266, 84056, 89637, 124345, 98425, 82879, 91565, 113820, 89355, 104781, 91407, 95895, 89888, 183718, 98526, 88378, 86983, 89884, 86606, 106578, 116045, 86416, 95598, 94647, 82422, 110973, 99324, 94506, 93656, 87578, 95221, 109361, 86885, 92190, 95817, 84122, 83433, 103906, 87763, 98337, 82876, 181076, 111257, 160380, 159869, 229935, 94109, 88281, 83137, 86646, 99999, 84475, 90305, 94580, 140448, 113810, 82141, 82231, 82067, 82420, 87128, 98979, 92575, 99851, 87307, 89687, 147075, 98152, 94333, 98073, 83196, 84432, 101568, 100018, 168597, 82135, 119425, 97229, 83778, 101024, 85327, 83666, 86711, 91713, 155317, 83045, 90374, 99529, 160011, 151585, 113332, 199996, 96639, 111070, 104511, 113339, 105335, 83951, 294209, 83017, 104998, 86750, 82125, 94216, 90834, 107454, 85608, 86415, 89440, 336395, 95824, 83037, 82753, 89778, 95992, 111447, 95641, 214455, 82701, 89388, 95692, 88883, 87449, 96374, 93597, 86349, 86484, 97164, 90040, 86897, 85198, 89721, 111327, 101935, 88891, 88746, 84472, 88038, 97467, 109546, 94843, 82128, 253362, 141131, 85340, 99873, 83203, 82424, 91146, 117793, 135054, 82089, 98327, 82033, 98152, 92928, 97936, 113379, 102708, 102724, 88196, 99096, 84917, 116398, 89263, 88123, 95664, 99198, 93267, 84918, 91694, 90534, 211132, 174574, 89022, 83652, 89425, 101123, 296891, 106843, 83957, 90972, 117563, 97505, 83338, 128329, 113088, 107115, 91151, 122700, 189361, 235683, 98067, 105627, 87665, 92716, 101331, 540165, 104003, 92518, 103511, 169127, 98650, 97693, 121384, 89063, 91415, 85063, 88638, 92860, 103968, 82129, 83808, 85553, 127493, 86860, 99950, 101025, 100196, 86958, 84875, 95217, 93259, 340439, 82501, 105542, 97772, 123446, 87557, 95904, 99238, 101825, 89388, 100993, 229375, 83638, 88673, 113636, 84328, 129892, 88134, 95692, 91118, 102962, 85000, 121448, 82372, 252141, 90834, 142313, 206906, 106505, 131355, 84268, 85207, 83958, 108034, 91338, 107971, 84025, 218552, 82491, 86205, 240318, 105714, 101333, 83228, 111486, 135616, 110070, 98905, 85480, 86426, 86581, 82237, 167393, 83876, 120406, 126410, 107103, 107943, 99091, 84810, 92161, 167899, 142271, 113029, 152866, 91323, 93214, 109738, 94946, 84671, 291169, 104539, 150468, 143525, 86013, 99248, 91164, 117237, 100718, 133747, 83683, 126158, 102747, 113553, 85514, 101380, 104388, 94899, 240809, 103439, 88128, 99339, 91487, 83182, 103059, 101639, 93971, 109080, 214455, 104195, 182288, 85990, 94343, 171264, 96436, 88946, 88533, 92454, 241735, 111384, 107115, 188591, 318706, 114021, 82195, 85683, 93902, 84046, 95274, 96364, 88388, 82649, 84112, 124520, 82204, 88369, 267698, 93195, 98418, 131901, 99647, 87798, 86112, 164502, 131148, 90959, 106829, 91882, 103417, 83076, 93569, 336395, 88908, 83646, 127942, 88411, 91886, 87601, 83817, 83249, 82968, 89059, 84025, 100985, 251853, 94593, 100377, 110308, 82788, 118594, 83554, 87133, 110498, 199154, 92267, 135229, 92300, 82826, 106909, 87675, 87130, 101771, 85787, 110410, 92064, 92976, 112634, 99445, 84456, 313854, 109161, 110686, 82613, 84008, 88518, 94770, 88690, 82753, 102867, 84945, 88183, 121760, 165501, 94391, 93902, 88664, 134896, 286666, 88434, 98794, 159995, 111419, 83249, 86047, 95840, 90446, 90940, 87263, 94843, 97533, 83826, 309867, 84008, 84514, 84046, 83027, 90600, 129706, 117544, 88811, 100278, 90335, 94035, 86343, 104229, 91094, 99866, 106392, 336395, 122795, 83979, 89643, 87386, 192034, 87864, 84887, 84901, 93931, 199154, 101661, 303550, 100894, 86719, 87921, 114873, 99764, 118594, 102815, 82972, 108765, 100691, 93804, 90526, 84018, 97966, 102552, 95411, 96457, 85949, 125475, 87988, 82115, 102917, 95021, 89355, 97514, 112816, 128993, 86776, 120595, 211132, 313424, 84725, 83027, 103723, 113350, 89408, 82202, 108305, 99171, 86968, 92717, 139556, 217801, 123641, 84077, 94435, 92298, 93950, 92396, 101045, 87702, 140912, 116796, 84918, 89857, 84582, 83086, 199303, 106670, 84609, 188591, 98893, 313854, 101070, 96120, 85851, 86349, 86659, 105998, 105637, 86624, 93335, 108182, 89237, 91625, 88522, 84399, 90235, 99449, 130427, 97733, 156270, 83096, 92268, 82354, 139893, 87760, 448156, 83817, 156062, 82272, 87575, 88366, 97865, 86631, 85525, 84223, 107566, 100549, 93664, 104884, 83771, 102975, 82519, 112113, 87651, 88940, 109461, 96344, 91599, 97823, 104078, 99528, 104643, 184270, 86987, 94770, 183718, 89237, 86592, 85760, 141582, 91407, 114393, 112667, 104726, 135653, 336395, 83846, 109046, 103890, 99887, 105538, 89311, 83869, 152895, 313424, 96532, 214330, 308615, 104643, 128686, 97803, 123233, 295106, 88995, 84715, 88446, 85209, 109865, 173513, 82968, 95165, 84046, 92440, 87403, 121207, 82195, 87556, 91531, 472042, 90306, 82569, 93629, 90515, 111779, 140293, 101888, 82753, 100254, 101338, 93427, 143007, 97293, 87006, 115719, 97518, 91459, 93012, 85991, 83102, 101382, 94810, 158307, 85040, 122625, 133280, 84025, 98417, 111683, 122917, 90736, 113177, 96713, 123247, 92584, 91897, 399010, 134013, 84025, 94516, 115034, 144209, 100806, 102789, 96135, 82613, 101215, 82657, 85196, 170758, 97223, 102997, 540165, 97868, 88072, 113350, 346200, 93995, 112785, 104233, 93259, 98529, 96074, 227281, 94892, 101802, 114452, 82802, 83013, 90544, 85235, 93691, 90861, 98662, 109279, 84196, 88523, 95895, 82162, 140225, 85517, 85751, 104153, 85706, 87160, 86887, 96997, 90761, 91274, 111208, 174592, 85862, 126302, 90025, 88023, 103510, 111715, 103123, 104290, 83525, 313854, 89090, 89408, 115554, 93095, 105939, 102326, 82096, 89657, 134092, 88964, 100253, 85431, 126576, 84080, 101981, 101322, 90830, 86378, 93050, 93367, 89126, 85888, 97370, 195863, 98301, 88419, 299811, 109019, 83910, 91644, 88733, 107531, 84028, 90024, 144004, 86482, 83859, 85947, 99328, 97986, 84405, 106773, 90151, 114210, 152654, 124981, 97363, 94886, 90075, 82482, 93345, 118971, 124342, 103934, 85104, 83151, 117057, 89336, 115719, 109099, 97259, 98112, 83261, 90109, 84025, 97265, 90359, 107217, 84085, 89163, 91452, 111883, 82358, 89960, 83731, 99584, 82342, 105335, 83005, 106035, 251853, 84459, 82822, 122325, 91266, 336395, 87880, 115719, 84943, 107119, 87954, 85991, 112746, 93597, 316563, 85720, 100296, 84901, 97803, 162785, 88955, 94435, 96266, 85486, 89478, 83666, 489663, 86144, 107875, 96136, 293038, 126576, 105379, 115719, 91545, 92465, 173545, 93253, 83873, 83378, 234236, 83907, 96253, 92203, 87864, 118167, 82708, 86983, 97335, 100591, 114757, 111876, 95159, 199996, 87763, 97710, 92353, 82222, 121058, 84728, 107561, 113857, 97370, 110479, 95843, 82928, 86455, 84397, 101205, 87930, 88669, 86485, 87651, 92249, 101146, 87891, 100574, 83586, 103059, 89604, 97799, 170661, 127279, 89287, 84630, 83757, 90834, 112988, 88811, 91037, 110592, 96079, 93735, 110999, 101380, 95118, 88683, 121321, 86492, 91369, 83148, 87813, 83151, 83813, 101108, 86656, 84771, 85804, 86983, 82647, 98307, 100950, 143007, 104229, 110308, 83569, 90718, 366891, 84921, 98237, 82737, 110640, 96500, 86697, 91151, 92764, 540165, 109321, 116777, 106035, 88634, 85555, 87796, 85290, 91969, 91379, 94080, 101892, 133280, 88841, 132387, 96708, 96609, 99695, 89345, 82753, 346982, 119446, 85019, 120507, 84241, 93597, 120245, 92631, 86816, 90771, 88469, 107078, 158356, 85549, 110012, 91369, 85479, 84928, 87386, 173513, 83423, 94606, 95117, 109279, 101333, 91545, 83242, 104535, 93786, 82657, 87750, 114391, 100227, 93376, 91698, 102261, 102109, 82685, 87470, 100817, 177150, 107287, 82148, 111671, 86106, 101680, 83638, 105148, 94216, 88557, 93705, 86806, 87901, 100227, 83187, 83527, 135545, 113486, 214595, 107966, 96371, 96030, 88148, 109321, 91545, 98602, 106843, 87914, 82753, 96030, 100064, 85787, 84392, 97038, 97718, 87582, 89449, 94779, 93597, 122442, 106836, 95014, 110276, 92954, 103603, 101802, 366891, 96941, 133355, 83854, 144074, 85758, 83670, 97468, 89956, 118167, 100245, 90123, 162948, 110592, 93485, 196513, 92994, 127772, 142995, 86784, 84600, 95130, 229935, 100502, 87271, 84742, 110012, 111518, 329525, 91348, 233713, 83666, 83787, 109890, 87956, 91414, 93214, 95845, 86920, 89929, 89088, 117799, 89178, 82713, 93449, 90216, 347606, 85535, 108323, 95712, 87160, 129609, 185009, 86380, 105365, 102637, 91214, 87666, 108651, 118745, 107003, 88656, 90988, 91677, 129749, 106335, 90090, 91670, 93611, 83027, 95817, 87364, 90856, 84915, 82031, 84176, 95407, 97917, 89464, 83590, 130703, 96095, 144473, 83196, 83526, 84641, 86618, 86482, 127575, 85055, 87363, 94135, 93345, 93950, 132308, 117793, 83590, 93691, 96724, 86259, 82419, 85872, 95753, 113800, 93951, 99715, 101401, 109570, 101190, 109292, 132387, 99445, 82342, 89139, 97979, 97325, 89334, 152009, 91897, 87295, 92906, 87065, 88985, 85600, 87470, 86013, 82024, 143814, 87692, 85797, 86595, 89419, 103807, 96127, 86082, 93136, 117793, 113684, 101401, 88944, 99445, 164990, 89843, 91916, 85949, 113512, 119025, 84394, 232791, 95578, 103415, 87386, 95875, 117237, 83646, 102757, 95135, 111040, 139130, 105842, 82634, 114391, 93149, 101413, 83808, 91505, 82068, 82216, 90162, 89509, 97523, 96248, 90523, 103262, 88026, 152870, 402863, 98645, 97997, 90985, 89605, 98444, 94696, 83566, 82201, 92129, 86807, 84901, 91638, 82424, 126583, 299410, 95226, 98893, 117993, 89373, 82031, 102797, 91279, 110204, 86860, 94477, 96108, 95971, 103828, 98073, 113684, 82657, 92291, 291169, 94826, 84380, 106671, 336395, 113452, 105538, 105842, 106897, 87101, 82533, 218095, 90941, 88833, 87583, 105836, 88996, 87750, 110496, 252866, 84380, 86396, 92738, 98854, 294467, 111114, 101680, 103397, 98337, 84036, 138002, 366891, 86941, 97335, 87474, 84984, 82998, 88433, 83963, 107748, 87274, 107195, 131469, 110266, 84772, 91023, 100772, 96067, 87084, 94942, 90006, 89377, 102045, 103068, 114628, 82176, 89408, 95284, 96603, 216660, 119272, 91260, 110052, 95432, 98934, 88850, 84670, 86320, 130272, 82409, 108768, 97413, 185009, 83666, 89101, 85568, 92790, 140912, 88653, 118594, 100817, 92232, 101575, 117793, 103417, 108961, 87031, 82284, 85657, 296891, 97523, 92166, 109448, 97305, 86182, 101670, 93089, 128457, 82414, 86823, 101682, 82713, 89041, 90156, 117793, 174351, 82454, 83174, 82753, 82295, 87228, 82375, 88018, 91606, 82682, 88363, 143445, 118613, 87545, 84786, 99474, 99685, 101401, 100445, 105212, 89549, 101397, 83666, 96347, 90541, 85604, 399010, 86082, 87004, 201587, 115232, 94331, 111557, 83997, 84380, 124950, 87120, 229935, 100337, 88883, 92978, 92994, 89067, 106843, 162733, 540165, 86199, 84807, 98184, 102285, 102046, 96266, 104635, 82824, 109080, 122906, 99718, 96158, 91770, 83355, 85571, 336395, 140789, 87431, 243141, 94446, 82675, 91029, 83005, 291169, 89581, 91396, 82314, 99021, 472042, 82932, 110410, 91452, 94955, 90809, 110204, 91108, 84651, 85599, 227526, 114210, 90985, 85466, 94970, 82682, 114145, 92091, 91279, 84950, 103222, 88040, 104521, 91094, 84109, 102314, 472042, 85049, 109236, 86045, 93389, 83124, 103748, 121601, 92453, 93089, 93983, 87759, 88773, 83265, 99528, 134022, 91698, 85332, 87057, 99750, 296891, 136156, 83424, 131874, 116796, 84699, 107189, 96061, 119425, 82738, 91969, 110479, 92042, 114391, 97056, 119272, 96199, 118644, 108034, 82852, 91505, 85055, 291169, 86394, 97865, 97187, 112176, 84649, 89765, 82058, 340439, 105379, 164759, 87507, 86182, 89375, 106396, 85442, 88623, 87679, 173653, 84811, 86205, 84298, 85347, 86275, 108692, 91533, 116606, 86349, 155317, 93458, 92386, 92877, 97155, 84178, 85983, 235683, 83666, 85752, 158860, 93950, 96425, 92795, 84396, 85922, 91713, 84715, 99987, 107446, 115014, 311948, 89422, 86084, 86943, 85268, 135998, 102370, 183718, 120134, 96482, 82877, 90446, 134092, 100544, 137041, 84818, 90007, 93036, 95362, 96884, 88518, 95014, 92181, 110655, 94253, 108034, 91703, 155184, 90514, 136113, 91605, 95121, 91545, 82958, 112115, 94181, 88433, 107566, 109965, 89575, 94931, 97748, 99730, 89090, 135450, 232791, 97151, 88806, 107120, 211132, 92555, 85787, 84007, 92621, 84055, 174094, 83117, 86092, 85993, 101852, 235683, 128025, 86512, 88955, 83654, 97391, 97510, 83979, 116796, 83196, 135038, 83233, 84807, 112024, 89637, 116272, 86419, 119373, 114019, 88403, 84452, 84398, 86452, 91279, 83700, 84084, 84098, 85087, 89637, 96026, 87971, 86781, 86378, 85370, 96879, 97545, 92300, 92120, 88419, 108766, 86888, 105608, 82649, 339396, 91807, 88072, 104237, 123396, 85722, 84944, 101013, 88124, 84824, 113663, 84085, 104710, 169021, 98645, 83360, 93597, 104939, 84912, 82060, 109803, 82705, 118922, 89419, 113088, 97065, 122051, 125876, 366891, 96230, 122051, 82928, 102046, 150412, 91469, 84328, 110049, 132193, 93337, 82632, 86574, 313854, 115554, 93042, 101568, 100543, 123783, 90559, 87498, 89646, 108768, 97070, 84844, 97869, 84004, 93242, 106213, 85055, 84866, 85442, 85582, 84028, 402097, 187756, 114983, 108653, 86000, 101070, 84386, 91882, 86956, 87758, 89652, 92994, 94798, 86834, 103314, 155413, 82531, 82000, 88989, 83489, 106646, 85787, 93925, 90355, 85858, 93104, 122625, 85315, 105503, 102948, 95739, 109080, 83424, 87536, 92898, 87130, 120340, 87286, 85447, 199996, 99611, 110592, 116852, 88591, 109080, 82914, 115672, 85108, 337327, 82662, 97038, 266118, 98442, 156389, 95221, 96468, 85074, 91407, 159243, 91293, 211132, 122424, 114536, 96060, 141863, 136163, 144224, 85828, 188591, 132401, 92161, 100656, 131570, 87980, 103561, 91876, 84025, 97615, 104962, 111671, 90585, 89769, 86592, 90138, 113230, 87658, 92860, 125490, 100255, 94581, 90019, 92041, 88518, 170402, 86013, 110573, 102049, 84219, 83187, 117683, 94846, 87736, 86608, 98337, 82074, 99552, 145053, 88940, 85259, 82880, 83871, 98922, 85514, 88664, 89168, 91267, 85977, 86272, 128993, 100172, 89164, 119963, 88659, 82780, 84877, 94957, 96230, 127161, 82572, 121489, 127454, 495106, 88653, 159243, 111883, 109463, 84080, 95793, 90682, 83458, 92516, 98299, 88800, 92898, 91004, 98794, 94327, 101808, 83586, 128941, 102744, 86408, 86562, 103534, 87056, 90175, 82017, 87759, 85777, 104965, 98832, 92210, 112611, 88057, 85402, 313424, 88825, 87674, 147075, 97068, 89139, 91061, 111683, 84585, 95850, 92175, 235683, 82067, 102257, 83600, 82067, 96801, 92347, 107292, 185338, 100094, 92985, 94249, 85467, 88891, 88296, 104280, 85283, 98571, 107680, 83572, 108736, 100825, 84230, 84691, 220702, 82466, 90926, 102326, 93951, 82935, 109762, 94431, 102974, 92428, 96451, 82326, 118327, 92327, 82060, 83900, 96349, 244589, 103314, 83666, 93360, 98428, 87043, 88328, 104566, 83290, 111384, 85230, 86476, 199996, 97741, 115092, 83321, 82979, 88977, 84025, 104765, 91214, 84331, 92381, 86774, 291169, 140225, 82307, 98956, 84469, 86855, 86573, 82613, 167548, 82373, 102753, 102874, 89601, 82024, 188014, 99096, 107971, 109015, 104388, 90947, 83575, 295106, 106035, 90985, 87815, 97432, 346982, 109374, 91698, 87044, 167548, 109080, 111268, 92597, 100171, 96944, 151034, 85313, 235683, 220581, 93312, 87664, 111257, 337573, 89956, 93597, 86366, 99986, 92185, 119593, 85516, 94767, 91267, 101813, 94819, 83643, 90989, 83396, 126576, 251817, 93458, 85555, 84312, 90637, 85034, 84319, 99997, 89054, 85757, 124881, 97693, 86164, 89582, 87130, 165395, 85060, 94121, 93221, 92283, 95453, 91305, 101664, 110611, 93515, 90262, 84397, 86496, 92601, 111358, 123928, 82005, 86527, 83278, 87956, 106114, 105013, 101160, 90648, 106344, 87401, 87067, 196587, 143525, 90090, 144874, 88316, 106035, 122351, 88659, 99445, 102747, 95102, 82824, 120320, 91164, 87880, 89695, 93259, 100950, 192052, 87709, 90800, 112667, 109299, 339396, 107321, 94581, 88278, 110323, 87423, 174721, 94717, 82758, 103195, 87217, 104924, 92555, 101938, 97164, 84046, 99129, 89329, 83758, 83915, 130474, 130980, 92014, 85108, 120927, 117799, 86104, 97718, 82421, 84529, 94128, 137796, 87228, 84887, 82028, 130307, 175886, 122625, 99258, 82962, 86587, 110479, 83666, 110592, 90765, 297040, 125848, 86191, 83924, 90584, 88117, 96780, 92932, 100551, 199769, 87439, 87730, 91798, 85068, 196890, 123362, 84490, 83234, 93360, 116451, 98102, 105052, 107414, 83076, 86069, 108764, 142271, 118964, 96856, 114164, 97694, 83597, 98317, 87891, 157479, 84742, 109958, 90299, 82968, 86467, 91389, 140744, 83586, 97823, 340439, 90507, 154624, 88870, 86793, 135109, 169300, 113656, 99024, 82713, 93950, 114762, 108182, 84766, 86496, 84213, 82454, 136253, 87056, 83177, 91668, 96571, 88989, 96316, 108800, 90838, 90861, 104966, 85780, 101953, 105979, 90700, 121275, 104819, 90918, 83095, 93360, 101535, 82051, 95342, 102931, 107218, 93521, 96495, 112264, 86218, 99445, 98519, 92228, 130047, 241735, 109538, 122134, 122625, 108323, 122494, 85610, 88269, 124488, 199996, 101449, 93473, 99340, 95187, 91882, 92757, 87032, 97847, 103931, 108707, 91545, 84396, 102135, 303550, 91637, 91279, 83096, 87755, 88529, 108768, 113350, 188591, 89650, 132789, 84521, 103999, 154665, 174859, 87617, 91038, 84984, 85333, 94322, 94767, 150749, 84339, 88326, 86861, 83688, 84432, 103439, 182288, 126859, 83206, 97216, 119191, 83666, 159979, 115702, 141394, 93837, 188591, 116777, 101172, 95310, 84611, 109515, 90791, 183718, 85582, 115189, 106035, 101022, 85983, 170763, 96371, 97928, 102513, 95109, 99339, 104108, 138836, 110592, 100981, 108208, 107782, 88618, 101450, 119223, 129901, 88060, 148931, 101026, 84541, 83589, 83125, 86542, 152417, 174814, 96074, 98783, 109577, 84494, 103150, 116777, 113577, 87295, 90837, 237697, 87178, 82578, 85127, 109003, 114589, 165395, 87988, 98507, 82833, 109515, 149375, 90138, 93983, 82002, 83512, 211132, 200998, 84841, 84679, 90607, 130760, 91138, 108058, 93597, 90116, 90601, 220702, 97949, 121123, 84611, 111025, 92985, 96606, 399010, 204681, 95773, 126809, 87708, 88567, 90689, 100431, 101049, 96392, 106112, 99604, 147943, 114090, 82577, 102572, 150508, 96987, 87514, 90809, 336395, 84609, 106533, 84157, 90584, 108400, 424578, 103811, 101997, 101371, 82619, 105969, 91266, 87470, 92783, 88274, 94111, 86362, 88282, 90630, 93597, 82925, 98849, 92859, 188591, 90070, 84109, 102931, 87553, 85549, 145072, 101942, 109372, 88618, 105887, 86253, 90967, 84396, 96620, 84080, 174298, 90452, 86579, 96045, 83499, 93389, 92042, 90616, 96616, 92700, 85484, 87754, 92691, 146390, 90467, 92995, 106035, 215905, 97710, 116363, 103191, 96759, 118916, 89535, 97852, 124626, 92181, 103886, 83008, 472042, 88128, 143163, 123008, 98800, 84414, 218552, 339396, 120319, 195863, 90250, 101684, 102328, 95763, 84585, 99611, 94335, 90353, 91324, 91060, 193637, 178137, 99445, 105969, 84471, 88409, 83683, 145414, 87395, 92228, 90690, 94557, 105379, 101953, 100690, 96135, 95136, 83132, 98794, 89440, 99452, 84298, 172150, 96821, 127292, 117683, 96068, 132789, 84187, 91312, 127242, 101795, 82397, 111040, 113636, 107412, 117794, 115252, 88985, 99506, 106737, 232791, 87548, 85159, 111327, 110068, 82581, 95221, 82868, 103534, 83638, 98152, 87914, 84786, 83278, 89419, 100218, 95120, 82908, 87844, 96636, 100218, 95661, 88683, 99706, 89282, 105538, 87914, 101078, 90727, 82491, 113260, 82775, 92764, 89379, 82598, 267909, 107412, 84085, 99596, 84501, 92865, 92901, 85956, 103150, 94320, 94506, 89162, 103629, 91672, 106274, 88405, 111484, 154354, 86916, 105779, 104634, 93902, 95773, 85797, 107729, 85304, 86465, 98425, 98018, 98645, 188591, 86455, 106112, 87244, 118626, 82598, 126576, 91267, 101146, 83206, 102832, 90967, 83739, 106570, 82353, 92428, 91505, 106112, 148945, 110012, 93738, 98331, 89637, 141411, 92404, 105006, 123425, 126576, 106486, 95962, 93195, 84560, 89705, 83666, 87336, 90541, 93597, 82740, 83666, 110323, 104774, 91255, 109582, 109067, 82028, 96495, 86659, 87096, 99941, 100189, 315565, 100796, 83523, 87657, 84702, 106219, 83338, 82914, 133633, 91469, 93138, 89456, 92005, 89305, 116937, 83338, 93253, 84108, 82317, 99753, 103415, 90198, 95150, 93922, 89950, 98741, 84552, 303339, 105802, 102626, 122186, 88555, 90918, 93367, 89242, 97955, 91897, 82254, 92120, 108008, 106973, 93253, 92120, 122784, 109321, 87386, 94743, 138002, 84026, 151034, 83958, 87271, 86013, 83027, 134747, 199154, 109019, 107586, 119414, 124131, 105335, 83666, 87741, 82335, 154802, 90630, 162785, 108957, 91531, 100004, 98177, 84613, 91882, 83757, 93030, 102744, 89843, 99512, 86718, 163442, 91939, 118312, 122625, 110623, 93021, 88891, 83172, 89718, 94506, 98289, 91969, 98164, 85148, 94781, 227281]\n"
     ]
    }
   ],
   "source": [
    "outlier_datapoints = detect_outlier(result_df[\"Annual_Premium\"])\n",
    "print(outlier_datapoints)"
   ]
  },
  {
   "cell_type": "code",
   "execution_count": 24,
   "metadata": {},
   "outputs": [
    {
     "data": {
      "image/png": "[encoded data removed]",
      "text/plain": [
       "<Figure size 864x720 with 2 Axes>"
      ]
     },
     "metadata": {
      "needs_background": "light"
     },
     "output_type": "display_data"
    },
    {
     "name": "stdout",
     "output_type": "stream",
     "text": [
      "Correlation Coefficeint With Respect to Response\n",
      "id                      0.001042\n",
      "Gender                  0.003502\n",
      "Age                     0.067392\n",
      "Driving_License         0.012084\n",
      "Region_Code             0.012012\n",
      "Previously_Insured      0.004776\n",
      "Vehicle_Age             0.023545\n",
      "Vehicle_Damage          0.009504\n",
      "Annual_Premium          1.000000\n",
      "Policy_Sales_Channel    0.114035\n",
      "Vintage                 0.000855\n",
      "Response                0.019477\n",
      "Name: Annual_Premium, dtype: float64\n"
     ]
    }
   ],
   "source": [
    "#Using Pearson Correlation\n",
    "plt.figure(figsize=(12,10))\n",
    "cor = result_df.corr()\n",
    "sns.heatmap(cor, annot=True, cmap=plt.cm.Reds)\n",
    "plt.show()\n",
    "#Correlation with output variable\n",
    "cor_target = abs(cor[\"Annual_Premium\"])\n",
    "#Selecting highly correlated features\n",
    "relevant_features = cor_target[cor_target>0]\n",
    "print(\"Correlation Coefficeint With Respect to Response\")\n",
    "print(relevant_features)"
   ]
  },
  {
   "cell_type": "markdown",
   "metadata": {},
   "source": [
    "# Linear Regression"
   ]
  },
  {
   "cell_type": "code",
   "execution_count": 25,
   "metadata": {},
   "outputs": [
    {
     "name": "stdout",
     "output_type": "stream",
     "text": [
      "(508146, 10)\n",
      "(508146,)\n"
     ]
    }
   ],
   "source": [
    "x=result_df.drop(['Annual_Premium','id'], axis = 1)\n",
    "y=result_df['Annual_Premium']\n",
    "print(x.shape)\n",
    "print(y.shape)"
   ]
  },
  {
   "cell_type": "code",
   "execution_count": 26,
   "metadata": {},
   "outputs": [],
   "source": [
    "from sklearn.model_selection import train_test_split\n",
    "train_features, test_features, train_labels, test_labels = train_test_split(x, y, test_size = 0.3, random_state = 0)"
   ]
  },
  {
   "cell_type": "code",
   "execution_count": 27,
   "metadata": {},
   "outputs": [
    {
     "name": "stdout",
     "output_type": "stream",
     "text": [
      "Training Features Shape: (355702, 10)\n",
      "Training Labels Shape: (355702,)\n",
      "Testing Features Shape: (152444, 10)\n",
      "Testing Labels Shape: (152444,)\n"
     ]
    }
   ],
   "source": [
    "print('Training Features Shape:', train_features.shape)\n",
    "print('Training Labels Shape:', train_labels.shape)\n",
    "print('Testing Features Shape:', test_features.shape)\n",
    "print('Testing Labels Shape:', test_labels.shape)"
   ]
  },
  {
   "cell_type": "code",
   "execution_count": 28,
   "metadata": {},
   "outputs": [],
   "source": [
    "from sklearn.linear_model import LinearRegression\n",
    "model = LinearRegression()\n",
    "model.fit(train_features, train_labels)\n",
    "y_pred = model.predict(test_features)"
   ]
  },
  {
   "cell_type": "code",
   "execution_count": 29,
   "metadata": {},
   "outputs": [
    {
     "name": "stdout",
     "output_type": "stream",
     "text": [
      "Training set score: 0.0216\n",
      "Test set score: 0.0202\n"
     ]
    }
   ],
   "source": [
    "print(\"Training set score: {:.4f}\".format(model.score(train_features,train_labels)))\n",
    "\n",
    "print(\"Test set score: {:.4f}\".format(model.score(test_features,test_labels)))"
   ]
  },
  {
   "cell_type": "code",
   "execution_count": 30,
   "metadata": {},
   "outputs": [
    {
     "name": "stdout",
     "output_type": "stream",
     "text": [
      "[-2.20296565e+02  5.68341300e+01 -2.40386630e+03 -2.20994504e+01\n",
      "  1.84695901e+03  2.87446966e+03  7.89872640e+02 -4.05438669e+01\n",
      " -2.30672795e-01  9.38180788e+02]\n",
      "33231.52629203656\n"
     ]
    }
   ],
   "source": [
    "print(model.coef_)\n",
    "print(model.intercept_)"
   ]
  },
  {
   "cell_type": "code",
   "execution_count": 31,
   "metadata": {},
   "outputs": [
    {
     "name": "stdout",
     "output_type": "stream",
     "text": [
      "RMSE value: 16885.9328\n"
     ]
    }
   ],
   "source": [
    "from sklearn.metrics import mean_squared_error\n",
    "mse = mean_squared_error(test_labels, y_pred)\n",
    "rmse = np.sqrt(mse)\n",
    "print(\"RMSE value: {:.4f}\".format(rmse))"
   ]
  },
  {
   "cell_type": "code",
   "execution_count": 32,
   "metadata": {},
   "outputs": [
    {
     "name": "stdout",
     "output_type": "stream",
     "text": [
      "R2 Score value: 0.0202\n"
     ]
    }
   ],
   "source": [
    "# Calculate and print r2_score\n",
    "\n",
    "from sklearn.metrics import r2_score\n",
    "print (\"R2 Score value: {:.4f}\".format(r2_score(test_labels, y_pred)))"
   ]
  },
  {
   "cell_type": "code",
   "execution_count": 33,
   "metadata": {},
   "outputs": [
    {
     "data": {
      "image/png": "[encoded data removed]",
      "text/plain": [
       "<Figure size 432x288 with 1 Axes>"
      ]
     },
     "metadata": {
      "needs_background": "light"
     },
     "output_type": "display_data"
    }
   ],
   "source": [
    "# Plotting residual errors\n",
    "plt.scatter(model.predict(train_features), model.predict(train_features) - train_labels, color = 'red', label = 'Train data')\n",
    "plt.scatter(model.predict(test_features), model.predict(test_features) - test_labels, color = 'blue', label = 'Test data')\n",
    "plt.hlines(xmin = 20000, xmax = 50000, y = 0, linewidth = 3)\n",
    "plt.title('Residual errors')\n",
    "plt.legend(loc = 4)\n",
    "plt.show()"
   ]
  },
  {
   "cell_type": "code",
   "execution_count": 34,
   "metadata": {},
   "outputs": [
    {
     "data": {
      "image/png": "[encoded data removed]",
      "text/plain": [
       "<Figure size 432x288 with 1 Axes>"
      ]
     },
     "metadata": {
      "needs_background": "light"
     },
     "output_type": "display_data"
    }
   ],
   "source": [
    "import statsmodels.api as sm\n",
    "import pylab\n",
    "import scipy.stats as stats\n",
    "stats.probplot(y_pred.reshape(-1), dist=\"norm\", plot=pylab)\n",
    "pylab.show()"
   ]
  },
  {
   "cell_type": "code",
   "execution_count": 35,
   "metadata": {},
   "outputs": [
    {
     "data": {
      "text/plain": [
       "Text(0.5, 1.0, 'Residual vs Fitted')"
      ]
     },
     "execution_count": 35,
     "metadata": {},
     "output_type": "execute_result"
    },
    {
     "data": {
      "image/png": "[encoded data removed]",
      "text/plain": [
       "<Figure size 432x288 with 1 Axes>"
      ]
     },
     "metadata": {
      "needs_background": "light"
     },
     "output_type": "display_data"
    }
   ],
   "source": [
    "import seaborn as sns\n",
    "residuals = test_labels - y_pred\n",
    "ax = sns.regplot(x=residuals, y=y_pred)\n",
    "ax.set_title('Residual vs Fitted')"
   ]
  },
  {
   "cell_type": "markdown",
   "metadata": {},
   "source": [
    "# Lasso, Ridge "
   ]
  },
  {
   "cell_type": "code",
   "execution_count": 36,
   "metadata": {},
   "outputs": [],
   "source": [
    "from sklearn.linear_model import Lasso"
   ]
  },
  {
   "cell_type": "code",
   "execution_count": 37,
   "metadata": {},
   "outputs": [
    {
     "name": "stdout",
     "output_type": "stream",
     "text": [
      "training score: 0.021558759070389066\n",
      "test score:  0.020205815285361806\n",
      "number of features used:  10\n",
      "training score for alpha=0.01: 0.02156062130858072\n",
      "test score for alpha =0.01:  0.02020252115769039\n",
      "number of features used: for alpha =0.01: 10\n",
      "training score for alpha=0.0001: 0.02156062149479465\n",
      "test score for alpha =0.0001:  0.020202470244255255\n",
      "number of features used: for alpha =0.0001: 10\n"
     ]
    }
   ],
   "source": [
    "lasso = Lasso()\n",
    "lasso.fit(train_features,train_labels)\n",
    "train_score=lasso.score(train_features,train_labels)\n",
    "test_score=lasso.score(test_features,test_labels)\n",
    "coeff_used = np.sum(lasso.coef_!=0)\n",
    "print(\"training score:\", train_score) \n",
    "print(\"test score: \", test_score)\n",
    "print(\"number of features used: \", coeff_used)\n",
    "lasso001 = Lasso(alpha=0.01, max_iter=10e5)\n",
    "lasso001.fit(train_features,train_labels)\n",
    "train_score001=lasso001.score(train_features,train_labels)\n",
    "test_score001=lasso001.score(test_features,test_labels)\n",
    "coeff_used001 = np.sum(lasso001.coef_!=0)\n",
    "print(\"training score for alpha=0.01:\", train_score001) \n",
    "print(\"test score for alpha =0.01: \", test_score001)\n",
    "print(\"number of features used: for alpha =0.01:\", coeff_used001)\n",
    "lasso00001 = Lasso(alpha=0.0001, max_iter=10e5)\n",
    "lasso00001.fit(train_features,train_labels)\n",
    "train_score00001=lasso00001.score(train_features,train_labels)\n",
    "test_score00001=lasso00001.score(test_features,test_labels)\n",
    "coeff_used00001 = np.sum(lasso00001.coef_!=0)\n",
    "print(\"training score for alpha=0.0001:\", train_score00001) \n",
    "print(\"test score for alpha =0.0001: \", test_score00001)\n",
    "print(\"number of features used: for alpha =0.0001:\", coeff_used00001)"
   ]
  },
  {
   "cell_type": "code",
   "execution_count": 38,
   "metadata": {},
   "outputs": [
    {
     "name": "stdout",
     "output_type": "stream",
     "text": [
      "R-Square Value 0.02020246972837836\n",
      "mean_absolute_error : 11950.144186561989\n",
      "mean_squared_error :  285134727.5654296\n",
      "root_mean_squared_error :  16885.932830774545\n",
      "R-Square Value 0.020080346450857656\n",
      "mean_absolute_error : 11939.191499945779\n",
      "mean_squared_error :  285170267.1400758\n",
      "root_mean_squared_error :  16886.985140636436\n",
      "[-1.83744566e+02  5.12760030e+01 -2.35563745e+03 -1.96128702e+01\n",
      "  1.30913268e+03  2.40050122e+03  3.91052677e+02 -3.56696578e+01\n",
      " -2.03058346e-01  8.41517289e+02]\n"
     ]
    }
   ],
   "source": [
    "from sklearn.linear_model import Ridge\n",
    "ridgereg = Ridge(alpha=0, normalize=True)\n",
    "ridgereg.fit(train_features, train_labels)\n",
    "y_pred = ridgereg.predict(test_features)\n",
    "from sklearn import metrics\n",
    "print(\"R-Square Value\",r2_score(test_labels,y_pred))\n",
    "print (\"mean_absolute_error :\",metrics.mean_absolute_error(test_labels, y_pred))\n",
    "print (\"mean_squared_error : \",metrics.mean_squared_error(test_labels, y_pred))\n",
    "print (\"root_mean_squared_error : \",np.sqrt(metrics.mean_squared_error(test_labels, y_pred)))\n",
    "ridgereg = Ridge(alpha=0.1, normalize=True)\n",
    "ridgereg.fit(train_features, train_labels)\n",
    "y_pred = ridgereg.predict(test_features)\n",
    "print(\"R-Square Value\",r2_score(test_labels,y_pred))\n",
    "print (\"mean_absolute_error :\",metrics.mean_absolute_error(test_labels, y_pred))\n",
    "print (\"mean_squared_error : \",metrics.mean_squared_error(test_labels, y_pred))\n",
    "print (\"root_mean_squared_error : \",np.sqrt(metrics.mean_squared_error(test_labels, y_pred)))\n",
    "print(ridgereg.coef_)"
   ]
  },
  {
   "cell_type": "code",
   "execution_count": 39,
   "metadata": {},
   "outputs": [
    {
     "data": {
      "image/png": "[encoded data removed]",
      "text/plain": [
       "<Figure size 432x288 with 1 Axes>"
      ]
     },
     "metadata": {
      "needs_background": "light"
     },
     "output_type": "display_data"
    },
    {
     "data": {
      "image/png": "[encoded data removed]",
      "text/plain": [
       "<Figure size 432x288 with 1 Axes>"
      ]
     },
     "metadata": {
      "needs_background": "light"
     },
     "output_type": "display_data"
    },
    {
     "data": {
      "image/png": "[encoded data removed]",
      "text/plain": [
       "<Figure size 432x288 with 1 Axes>"
      ]
     },
     "metadata": {
      "needs_background": "light"
     },
     "output_type": "display_data"
    }
   ],
   "source": [
    "plt.plot(lasso.coef_,alpha=0.7,linestyle='none',marker='*',markersize=5,color='red',label=r'Lasso; $\\alpha = 1$',zorder=7) \n",
    "plt.plot(lasso001.coef_,alpha=0.5,linestyle='none',marker='d',markersize=6,color='blue',label=r'Lasso; $\\alpha = 0.01$')\n",
    "plt.xlabel('Coefficient Index')\n",
    "plt.ylabel('Coefficient Magnitude')\n",
    "plt.legend(fontsize=7,loc=\"lower center\", bbox_to_anchor=(0.5, 1.15), ncol=2)\n",
    "plt.show()\n",
    "\n",
    "plt.plot(lasso.coef_,alpha=0.7,linestyle='none',marker='*',markersize=5,color='red',label=r'Lasso; $\\alpha = 1$',zorder=7) \n",
    "plt.plot(lasso001.coef_,alpha=0.5,linestyle='none',marker='d',markersize=6,color='blue',label=r'Lasso; $\\alpha = 0.01$')\n",
    "plt.plot(lasso00001.coef_,alpha=0.8,linestyle='none',marker='v',markersize=6,color='black',label=r'Lasso; $\\alpha = 0.00001$') \n",
    "plt.plot(model.coef_,alpha=0.7,linestyle='none',marker='o',markersize=5,color='green',label='Linear Regression',zorder=2)\n",
    "plt.xlabel('Coefficient Index')\n",
    "plt.ylabel('Coefficient Magnitude')\n",
    "plt.legend(fontsize=7,loc=\"lower center\", bbox_to_anchor=(0.5, 1.15), ncol=2)\n",
    "plt.show()\n",
    "\n",
    "plt.plot(lasso.coef_,alpha=0.7,linestyle='none',marker='*',markersize=5,color='red',label=r'Lasso; $\\alpha = 1$',zorder=7) \n",
    "plt.plot(lasso001.coef_,alpha=0.5,linestyle='none',marker='d',markersize=6,color='blue',label=r'Lasso; $\\alpha = 0.01$')\n",
    "plt.plot(lasso00001.coef_,alpha=0.8,linestyle='none',marker='v',markersize=6,color='black',label=r'Lasso; $\\alpha = 0.00001$') \n",
    "plt.plot(ridgereg.coef_,alpha=0.8,linestyle='none',marker='p',markersize=6,color='yellow',label=r'Ridge; $\\alpha = 0.1$') \n",
    "plt.plot(model.coef_,alpha=0.7,linestyle='none',marker='o',markersize=5,color='green',label='Linear Regression',zorder=2)\n",
    "plt.xlabel('Coefficient Index')\n",
    "plt.ylabel('Coefficient Magnitude')\n",
    "plt.legend(fontsize=7,loc=\"lower center\", bbox_to_anchor=(0.5, 1.15), ncol=2)\n",
    "plt.tight_layout()\n",
    "plt.show()"
   ]
  },
  {
   "cell_type": "markdown",
   "metadata": {},
   "source": [
    "# Logistic Regression"
   ]
  },
  {
   "cell_type": "code",
   "execution_count": 40,
   "metadata": {},
   "outputs": [],
   "source": [
    "from sklearn.linear_model import LogisticRegression\n",
    "from sklearn.metrics import classification_report, confusion_matrix"
   ]
  },
  {
   "cell_type": "code",
   "execution_count": 41,
   "metadata": {},
   "outputs": [],
   "source": [
    "x=result_df.drop('Response', axis = 1)\n",
    "y=result_df['Response']"
   ]
  },
  {
   "cell_type": "code",
   "execution_count": 42,
   "metadata": {},
   "outputs": [],
   "source": [
    "from sklearn.model_selection import train_test_split\n",
    "train_features, test_features, train_labels, test_labels = train_test_split(x, y, test_size = 0.3, random_state = 0)"
   ]
  },
  {
   "cell_type": "code",
   "execution_count": 43,
   "metadata": {},
   "outputs": [],
   "source": [
    "from imblearn.under_sampling import NearMiss\n",
    "nr = NearMiss()\n",
    "train_features, train_labels = nr.fit_resample(train_features, train_labels)"
   ]
  },
  {
   "cell_type": "code",
   "execution_count": 44,
   "metadata": {},
   "outputs": [
    {
     "name": "stdout",
     "output_type": "stream",
     "text": [
      "Training Features Shape: (65378, 11)\n",
      "Training Labels Shape: (65378,)\n",
      "Testing Features Shape: (152444, 11)\n",
      "Testing Labels Shape: (152444,)\n"
     ]
    }
   ],
   "source": [
    "print('Training Features Shape:', train_features.shape)\n",
    "print('Training Labels Shape:', train_labels.shape)\n",
    "print('Testing Features Shape:', test_features.shape)\n",
    "print('Testing Labels Shape:', test_labels.shape)"
   ]
  },
  {
   "cell_type": "code",
   "execution_count": 45,
   "metadata": {},
   "outputs": [
    {
     "name": "stdout",
     "output_type": "stream",
     "text": [
      "              precision    recall  f1-score   support\n",
      "\n",
      "           0       0.94      0.30      0.46    138423\n",
      "           1       0.11      0.82      0.19     14021\n",
      "\n",
      "    accuracy                           0.35    152444\n",
      "   macro avg       0.53      0.56      0.32    152444\n",
      "weighted avg       0.87      0.35      0.43    152444\n",
      "\n"
     ]
    }
   ],
   "source": [
    "from sklearn.linear_model import LogisticRegression\n",
    "\n",
    "logreg = LogisticRegression(max_iter=1000)\n",
    "\n",
    "logreg.fit(train_features, train_labels)\n",
    "\n",
    "y_pred=logreg.predict(test_features)\n",
    "\n",
    "print(classification_report(test_labels, y_pred))"
   ]
  },
  {
   "cell_type": "code",
   "execution_count": 46,
   "metadata": {},
   "outputs": [
    {
     "name": "stdout",
     "output_type": "stream",
     "text": [
      "Accuracy: 35.086982760882684\n"
     ]
    }
   ],
   "source": [
    "from sklearn import metrics\n",
    "print(\"Accuracy:\",metrics.accuracy_score(test_labels, y_pred)*100)"
   ]
  },
  {
   "cell_type": "code",
   "execution_count": 47,
   "metadata": {},
   "outputs": [
    {
     "name": "stdout",
     "output_type": "stream",
     "text": [
      "Accuracy: 0.35086982760882685\n",
      "Precision: 0.1067787664700599\n",
      "Recall: 0.8224805648669853\n"
     ]
    }
   ],
   "source": [
    "print(\"Accuracy:\",metrics.accuracy_score(test_labels, y_pred))\n",
    "print(\"Precision:\",metrics.precision_score(test_labels, y_pred))\n",
    "print(\"Recall:\",metrics.recall_score(test_labels, y_pred))"
   ]
  },
  {
   "cell_type": "code",
   "execution_count": 48,
   "metadata": {},
   "outputs": [
    {
     "data": {
      "text/plain": [
       "array([[41956, 96467],\n",
       "       [ 2489, 11532]], dtype=int64)"
      ]
     },
     "execution_count": 48,
     "metadata": {},
     "output_type": "execute_result"
    }
   ],
   "source": [
    "from sklearn import metrics\n",
    "cnf_matrix = metrics.confusion_matrix(test_labels, y_pred)\n",
    "cnf_matrix"
   ]
  },
  {
   "cell_type": "code",
   "execution_count": 49,
   "metadata": {},
   "outputs": [
    {
     "name": "stdout",
     "output_type": "stream",
     "text": [
      "Mean Absolute Error: 0.65 degrees.\n"
     ]
    }
   ],
   "source": [
    "import numpy as np\n",
    "predictions = logreg.predict(test_features)\n",
    "errors = abs(predictions - test_labels)\n",
    "print('Mean Absolute Error:', round(np.mean(errors), 2), 'degrees.')"
   ]
  },
  {
   "cell_type": "code",
   "execution_count": 50,
   "metadata": {},
   "outputs": [
    {
     "name": "stdout",
     "output_type": "stream",
     "text": [
      "Num Features: 8\n",
      "Selected Features: [False  True  True  True  True  True  True  True False  True False]\n",
      "Feature Ranking: [4 1 1 1 1 1 1 1 3 1 2]\n",
      "Features: Index(['id', 'Gender', 'Age', 'Driving_License', 'Region_Code',\n",
      "       'Previously_Insured', 'Vehicle_Age', 'Vehicle_Damage', 'Annual_Premium',\n",
      "       'Policy_Sales_Channel', 'Vintage'],\n",
      "      dtype='object')\n"
     ]
    }
   ],
   "source": [
    "from sklearn.feature_selection import RFE\n",
    "rfe = RFE(logreg, n_features_to_select=8)\n",
    "fit = rfe.fit(train_features, train_labels)\n",
    "print(\"Num Features: %d\" % fit.n_features_)\n",
    "print(\"Selected Features: %s\" % fit.support_)\n",
    "print(\"Feature Ranking: %s\" % fit.ranking_)\n",
    "print(\"Features:\", train_features.columns)"
   ]
  },
  {
   "cell_type": "code",
   "execution_count": 51,
   "metadata": {},
   "outputs": [
    {
     "name": "stdout",
     "output_type": "stream",
     "text": [
      "Mean Absolute Error: 0.38 degrees.\n",
      "              precision    recall  f1-score   support\n",
      "\n",
      "           0       0.94      0.30      0.46    138423\n",
      "           1       0.11      0.82      0.19     14021\n",
      "\n",
      "    accuracy                           0.35    152444\n",
      "   macro avg       0.53      0.56      0.32    152444\n",
      "weighted avg       0.87      0.35      0.43    152444\n",
      "\n"
     ]
    }
   ],
   "source": [
    "logreg_imp = LogisticRegression(max_iter=1000)\n",
    "train_important = train_features.drop(['id','Annual_Premium','Vintage'], axis=1)\n",
    "test_important = test_features.drop(['id','Annual_Premium','Vintage'], axis=1)\n",
    "logreg_imp.fit(train_important, train_labels)\n",
    "predictions = logreg_imp.predict(test_important)\n",
    "errors = abs(predictions - test_labels)\n",
    "print('Mean Absolute Error:', round(np.mean(errors), 2), 'degrees.')\n",
    "print(classification_report(test_labels, y_pred))"
   ]
  },
  {
   "cell_type": "code",
   "execution_count": 52,
   "metadata": {},
   "outputs": [
    {
     "data": {
      "text/plain": [
       "array([[80271, 58152],\n",
       "       [  488, 13533]], dtype=int64)"
      ]
     },
     "execution_count": 52,
     "metadata": {},
     "output_type": "execute_result"
    }
   ],
   "source": [
    "from sklearn import metrics\n",
    "cnf_matrix = metrics.confusion_matrix(test_labels, predictions)\n",
    "cnf_matrix"
   ]
  },
  {
   "cell_type": "code",
   "execution_count": 53,
   "metadata": {},
   "outputs": [
    {
     "name": "stdout",
     "output_type": "stream",
     "text": [
      "Accuracy: 61.53341554931647\n"
     ]
    }
   ],
   "source": [
    "from sklearn import metrics\n",
    "print(\"Accuracy:\",metrics.accuracy_score(test_labels, predictions)*100)"
   ]
  },
  {
   "cell_type": "code",
   "execution_count": 54,
   "metadata": {},
   "outputs": [
    {
     "name": "stdout",
     "output_type": "stream",
     "text": [
      "Accuracy: 0.6153341554931647\n",
      "Precision: 0.1887842644904792\n",
      "Recall: 0.9651950645460381\n"
     ]
    }
   ],
   "source": [
    "print(\"Accuracy:\",metrics.accuracy_score(test_labels, predictions))\n",
    "print(\"Precision:\",metrics.precision_score(test_labels, predictions))\n",
    "print(\"Recall:\",metrics.recall_score(test_labels, predictions))"
   ]
  },
  {
   "cell_type": "code",
   "execution_count": 55,
   "metadata": {},
   "outputs": [
    {
     "data": {
      "image/png": "[encoded data removed]",
      "text/plain": [
       "<Figure size 432x288 with 1 Axes>"
      ]
     },
     "metadata": {
      "needs_background": "light"
     },
     "output_type": "display_data"
    }
   ],
   "source": [
    "y_pred_proba = logreg_imp.predict_proba(test_important)[::,1]\n",
    "fpr, tpr, _ = metrics.roc_curve(test_labels,  y_pred_proba)\n",
    "auc = metrics.roc_auc_score(test_labels, y_pred_proba)\n",
    "plt.plot(fpr,tpr,label=\"data 1, auc=\"+str(auc))\n",
    "plt.legend(loc=4)\n",
    "plt.show()"
   ]
  },
  {
   "cell_type": "markdown",
   "metadata": {},
   "source": [
    "# Assignment 3"
   ]
  },
  {
   "cell_type": "markdown",
   "metadata": {},
   "source": [
    "# Decision Tree"
   ]
  },
  {
   "cell_type": "code",
   "execution_count": null,
   "metadata": {},
   "outputs": [],
   "source": [
    "import timeit\n",
    "start = timeit.default_timer()\n",
    "x=result_df.drop('Response', axis = 1)\n",
    "y=result_df['Response']\n",
    "from sklearn.model_selection import train_test_split\n",
    "train_features, test_features, train_labels, test_labels = train_test_split(x, y, test_size = 0.3, random_state = 0)"
   ]
  },
  {
   "cell_type": "code",
   "execution_count": null,
   "metadata": {},
   "outputs": [],
   "source": [
    "from sklearn.tree import DecisionTreeClassifier\n",
    "dt = DecisionTreeClassifier()    \n",
    "dt.fit(train_features, train_labels)\n",
    "dt_pred = dt.predict(test_features)\n",
    "stop = timeit.default_timer()\n",
    "print('Time: ', stop - start)"
   ]
  },
  {
   "cell_type": "code",
   "execution_count": null,
   "metadata": {},
   "outputs": [],
   "source": [
    "param_dict = {\n",
    "    \"criterion\" : ['gini','entropy'],\n",
    "    \"max_depth\":range(1,10),\n",
    "    \"min_samples_split\":range(1,10),\n",
    "    \"min_samples_leaf\":range(1,5)   \n",
    "}\n",
    "from sklearn.model_selection import GridSearchCV\n",
    "grid = GridSearchCV(dt,param_grid = param_dict,cv=10,verbose=1,n_jobs=-1)\n",
    "grid.fit(train_features,train_labels)\n",
    "grid_search.best_params_"
   ]
  },
  {
   "cell_type": "code",
   "execution_count": null,
   "metadata": {},
   "outputs": [],
   "source": [
    "start = timeit.default_timer()\n",
    "dt = DecisionTreeClassifier(criterion='entropy', max_depth=8, min_samples_leaf=3, min_samples_split=7)    \n",
    "dt.fit(train_features, train_labels)\n",
    "dt_pred = dt.predict(test_features)\n",
    "stop = timeit.default_timer()\n",
    "print('Time: ', stop - start)"
   ]
  },
  {
   "cell_type": "code",
   "execution_count": null,
   "metadata": {},
   "outputs": [],
   "source": [
    "errors = abs(dt_pred - test_labels)\n",
    "print('Mean Absolute Error:', round(np.mean(errors), 2), 'degrees.')\n",
    "print(\"Accuracy:\",metrics.accuracy_score(test_labels, dt_pred)*100)\n",
    "conf = confusion_matrix(test_labels,dt_pred)\n",
    "print(conf)"
   ]
  },
  {
   "cell_type": "code",
   "execution_count": null,
   "metadata": {},
   "outputs": [],
   "source": [
    "print(\"Accuracy:\",metrics.accuracy_score(test_labels, dt_pred))\n",
    "print(\"Precision:\",metrics.precision_score(test_labels, dt_pred))\n",
    "print(\"Recall:\",metrics.recall_score(test_labels, dt_pred))"
   ]
  },
  {
   "cell_type": "code",
   "execution_count": null,
   "metadata": {},
   "outputs": [],
   "source": [
    "importances = list(dt.feature_importances_)\n",
    "feature_importances = [(feature, round(importance, 2)) for feature, importance in zip(x.columns, importances)]\n",
    "feature_importances = sorted(feature_importances, key = lambda x: x[1], reverse = True) \n",
    "[print('Variable: {:20} Importance: {}'.format(*pair)) for pair in feature_importances];"
   ]
  },
  {
   "cell_type": "code",
   "execution_count": null,
   "metadata": {},
   "outputs": [],
   "source": [
    "rf_most_important = DecisionTreeClassifier(random_state=42)\n",
    "train_important = train_features.loc[:, ['Annual_Premium','Vintage','Age','Region_Code','Vehicle_Damage','Policy_Sales_Channel','Gender','Previously_Insured']]\n",
    "test_important = test_features.loc[:, ['Annual_Premium','Vintage','Age','Region_Code','Vehicle_Damage','Policy_Sales_Channel','Gender','Previously_Insured']]\n",
    "rf_most_important.fit(train_important, train_labels)\n",
    "predictions = rf_most_important.predict(test_important)\n",
    "errors = abs(predictions - test_labels)\n",
    "print('Mean Absolute Error:', round(np.mean(errors), 2), 'degrees.')"
   ]
  },
  {
   "cell_type": "code",
   "execution_count": null,
   "metadata": {},
   "outputs": [],
   "source": [
    "print(\"Accuracy:\",metrics.accuracy_score(test_labels, predictions))\n",
    "print(\"Precision:\",metrics.precision_score(test_labels, predictions))\n",
    "print(\"Recall:\",metrics.recall_score(test_labels, predictions))"
   ]
  },
  {
   "cell_type": "code",
   "execution_count": null,
   "metadata": {},
   "outputs": [],
   "source": [
    "y_pred_proba = dt.predict_proba(test_features)[::,1]\n",
    "fpr, tpr, _ = metrics.roc_curve(test_labels,  y_pred_proba)\n",
    "auc = metrics.roc_auc_score(test_labels, y_pred_proba)\n",
    "print(auc)\n",
    "plt.plot(fpr,tpr,label=\"data 1, auc=\"+str(auc))\n",
    "plt.legend(loc=4)\n",
    "plt.title(\"ROC_AUC Curve\")\n",
    "plt.xlabel(\"False Positive Rate\")\n",
    "plt.ylabel(\"True Positive Rate\")\n",
    "plt.show()"
   ]
  },
  {
   "cell_type": "markdown",
   "metadata": {},
   "source": [
    "# Random Forest"
   ]
  },
  {
   "cell_type": "code",
   "execution_count": null,
   "metadata": {},
   "outputs": [],
   "source": [
    "import timeit\n",
    "start = timeit.default_timer()\n",
    "x=result_df.drop('Response', axis = 1)\n",
    "y=result_df['Response']\n",
    "from sklearn.model_selection import train_test_split\n",
    "train_features, test_features, train_labels, test_labels = train_test_split(x, y, test_size = 0.3, random_state = 0)"
   ]
  },
  {
   "cell_type": "code",
   "execution_count": null,
   "metadata": {},
   "outputs": [],
   "source": [
    "from sklearn.ensemble import RandomForestClassifier\n",
    "rf = RandomForestClassifier(n_estimators = 1000, random_state=42)\n",
    "rf.fit(train_features, train_labels)\n",
    "predictions = rf.predict(test_features)\n",
    "stop = timeit.default_timer()\n",
    "print('Time: ', stop - start)  "
   ]
  },
  {
   "cell_type": "code",
   "execution_count": null,
   "metadata": {},
   "outputs": [],
   "source": [
    "errors = abs(predictions - test_labels)\n",
    "print('Mean Absolute Error:', round(np.mean(errors), 2), 'degrees.')\n",
    "print(\"Accuracy:\",metrics.accuracy_score(test_labels, predictions))\n",
    "print(\"Precision:\",metrics.precision_score(test_labels, predictions))\n",
    "print(\"Recall:\",metrics.recall_score(test_labels, predictions))\n",
    "conf = confusion_matrix(test_labels,predictions)\n",
    "print(conf)"
   ]
  },
  {
   "cell_type": "code",
   "execution_count": null,
   "metadata": {},
   "outputs": [],
   "source": [
    "importances = list(rf.feature_importances_)\n",
    "feature_importances = [(feature, round(importance, 2)) for feature, importance in zip(x.columns, importances)]\n",
    "feature_importances = sorted(feature_importances, key = lambda x: x[1], reverse = True) \n",
    "[print('Variable: {:20} Importance: {}'.format(*pair)) for pair in feature_importances];"
   ]
  },
  {
   "cell_type": "code",
   "execution_count": null,
   "metadata": {},
   "outputs": [],
   "source": [
    "print(\"Accuracy:\",metrics.accuracy_score(test_labels, predictions))\n",
    "print(\"Precision:\",metrics.precision_score(test_labels, predictions))\n",
    "print(\"Recall:\",metrics.recall_score(test_labels, predictions))"
   ]
  },
  {
   "cell_type": "code",
   "execution_count": null,
   "metadata": {},
   "outputs": [],
   "source": [
    "y_pred_proba = rf.predict_proba(test_features)[::,1]\n",
    "fpr, tpr, _ = metrics.roc_curve(test_labels,  y_pred_proba)\n",
    "auc = metrics.roc_auc_score(test_labels, y_pred_proba)\n",
    "print(auc)\n",
    "plt.plot(fpr,tpr,label=\"data 1, auc=\"+str(auc))\n",
    "plt.legend(loc=4)\n",
    "plt.title(\"ROC_AUC Curve\")\n",
    "plt.xlabel(\"False Positive Rate\")\n",
    "plt.ylabel(\"True Positive Rate\")\n",
    "plt.show()"
   ]
  },
  {
   "cell_type": "code",
   "execution_count": null,
   "metadata": {},
   "outputs": [],
   "source": [
    "# Create the parameter grid based on the results of random search \n",
    "param_grid = {\n",
    "    'bootstrap': [True],\n",
    "    'max_depth': [80, 90, 100, 110],\n",
    "    'max_features': [2, 3],\n",
    "    'min_samples_leaf': [3, 4, 5],\n",
    "    'min_samples_split': [8, 10, 12],\n",
    "    'n_estimators': [100, 200, 300, 1000]\n",
    "}\n",
    "# Create a based model\n",
    "rf = RandomForestClassifier()\n",
    "# Instantiate the grid search model\n",
    "grid_search = GridSearchCV(estimator = rf, param_grid = param_grid, \n",
    "                          cv = 3, n_jobs = -1, verbose = 2)\n",
    "grid_search.fit(train_features, train_labels)\n",
    "grid_search.best_params_"
   ]
  },
  {
   "cell_type": "markdown",
   "metadata": {},
   "source": [
    "# GBM"
   ]
  },
  {
   "cell_type": "code",
   "execution_count": null,
   "metadata": {},
   "outputs": [],
   "source": [
    "import timeit\n",
    "start = timeit.default_timer() \n",
    "x=result_df.drop('Response', axis = 1)\n",
    "y=result_df['Response']\n",
    "from sklearn.model_selection import train_test_split\n",
    "train_features, test_features, train_labels, test_labels = train_test_split(x, y, test_size = 0.3, random_state = 0)\n",
    "from imblearn.over_sampling import SMOTE\n",
    "nr = SMOTE()\n",
    "train_features, train_labels = nr.fit_sample(train_features, train_labels)"
   ]
  },
  {
   "cell_type": "code",
   "execution_count": null,
   "metadata": {},
   "outputs": [],
   "source": [
    "from sklearn.ensemble import GradientBoostingClassifier\n",
    "gbm = GradientBoostingClassifier()\n",
    "gbm.fit(train_features,train_labels)\n",
    "predictions = gbm.predict(test_features)\n",
    "stop = timeit.default_timer()\n",
    "print('Time: ', stop - start)"
   ]
  },
  {
   "cell_type": "code",
   "execution_count": null,
   "metadata": {},
   "outputs": [],
   "source": [
    "errors = abs(predictions - test_labels)\n",
    "print('Mean Absolute Error:', round(np.mean(errors), 2), 'degrees.')\n",
    "print(\"Accuracy:\",metrics.accuracy_score(test_labels, predictions))\n",
    "print(\"Precision:\",metrics.precision_score(test_labels, predictions))\n",
    "print(\"Recall:\",metrics.recall_score(test_labels, predictions))\n",
    "conf = confusion_matrix(test_labels,predictions)\n",
    "print(conf)"
   ]
  },
  {
   "cell_type": "code",
   "execution_count": null,
   "metadata": {},
   "outputs": [],
   "source": [
    "y_pred_proba = gbm.predict_proba(test_features)[::,1]\n",
    "fpr, tpr, _ = metrics.roc_curve(test_labels,  y_pred_proba)\n",
    "auc = metrics.roc_auc_score(test_labels, y_pred_proba)\n",
    "print(auc)\n",
    "plt.plot(fpr,tpr,label=\"data 1, auc=\"+str(auc))\n",
    "plt.legend(loc=4)\n",
    "plt.title(\"ROC_AUC Curve\")\n",
    "plt.xlabel(\"False Positive Rate\")\n",
    "plt.ylabel(\"True Positive Rate\")\n",
    "plt.show()"
   ]
  },
  {
   "cell_type": "code",
   "execution_count": null,
   "metadata": {},
   "outputs": [],
   "source": [
    "param ={\n",
    "        \"learning_rate\" : [1, 0.5, 0.25, 0.1, 0.05, 0.01],\n",
    "        \"n_estimators\" : [1, 2, 4, 8, 16, 32, 64, 100, 200],\n",
    "        \"max_depth\" : [1,10,20,30],\n",
    "        \"min_samples_split\" : [0.1,0.2,0.3,0.4,0.5,0.6,0.7,0.8,0.9,1. ],\n",
    "        \"min_samples_leaf\" : [0.1, 0.2, 0.3, 0.4, 0.5],\n",
    "        \"max_features\" : [1, 2, 3, 4, 5, 6, 7, 8, 9, 10]}\n",
    "grid_search = GridSearchCV(estimator = gbm, param_grid = param, \n",
    "                          cv = 3, n_jobs = -1, verbose = 2)\n",
    "grid_search.fit(train_features, train_labels)\n",
    "grid_search.best_params_"
   ]
  },
  {
   "cell_type": "markdown",
   "metadata": {},
   "source": [
    "# XGM"
   ]
  },
  {
   "cell_type": "code",
   "execution_count": null,
   "metadata": {},
   "outputs": [],
   "source": [
    "import timeit\n",
    "start = timeit.default_timer()  \n",
    "x=result_df.drop('Response', axis = 1)\n",
    "y=result_df['Response']\n",
    "from sklearn.model_selection import train_test_split\n",
    "train_features, test_features, train_labels, test_labels = train_test_split(x, y, test_size = 0.3, random_state = 0)\n",
    "from imblearn.over_sampling import SMOTE\n",
    "nr = SMOTE()\n",
    "train_features, train_labels = nr.fit_sample(train_features, train_labels)"
   ]
  },
  {
   "cell_type": "code",
   "execution_count": null,
   "metadata": {},
   "outputs": [],
   "source": [
    "from xgboost import XGBClassifier as xgb\n",
    "model_xgb = xgb()\n",
    "model_xgb.fit(train_features,train_labels)\n",
    "best_preds = model_xgb.predict(test_features)\n",
    "stop = timeit.default_timer()\n",
    "print('Time: ', stop - start)"
   ]
  },
  {
   "cell_type": "code",
   "execution_count": null,
   "metadata": {},
   "outputs": [],
   "source": [
    "errors = abs(best_preds - test_labels)\n",
    "print('Mean Absolute Error:', round(np.mean(errors), 2), 'degrees.')\n",
    "print(\"Accuracy:\",metrics.accuracy_score(test_labels, pred_xgb))\n",
    "print(\"Precision:\",metrics.precision_score(test_labels, pred_xgb))\n",
    "print(\"Recall:\",metrics.recall_score(test_labels, pred_xgb))\n",
    "conf = confusion_matrix(test_labels,pred_xgb)\n",
    "print(conf)"
   ]
  },
  {
   "cell_type": "code",
   "execution_count": null,
   "metadata": {},
   "outputs": [],
   "source": [
    "y_pred_proba = model_xgb.predict_proba(test_features)[::,1]\n",
    "fpr, tpr, _ = metrics.roc_curve(test_labels,  y_pred_proba)\n",
    "auc = metrics.roc_auc_score(test_labels, y_pred_proba)\n",
    "print(auc)\n",
    "plt.plot(fpr,tpr,label=\"data 1, auc=\"+str(auc))\n",
    "plt.legend(loc=4)\n",
    "plt.title(\"ROC_AUC Curve\")\n",
    "plt.xlabel(\"False Positive Rate\")\n",
    "plt.ylabel(\"True Positive Rate\")\n",
    "plt.show()"
   ]
  },
  {
   "cell_type": "code",
   "execution_count": null,
   "metadata": {},
   "outputs": [],
   "source": [
    "from sklearn.model_selection import GridSearchCV\n",
    "parameters = {\n",
    "     \"eta\"    : [0.05, 0.10, 0.15, 0.20, 0.25, 0.30 ] ,\n",
    "     \"max_depth\"        : [ 3, 4, 5, 6, 8, 10, 12, 15],\n",
    "     \"min_child_weight\" : [ 1, 3, 5, 7 ],\n",
    "     \"gamma\"            : [ 0.0, 0.1, 0.2 , 0.3, 0.4 ],\n",
    "     \"colsample_bytree\" : [ 0.3, 0.4, 0.5 , 0.7 ]\n",
    "     }\n",
    "\n",
    "grid = GridSearchCV(model_xgb,\n",
    "                    parameters, n_jobs=4,\n",
    "                    scoring=\"neg_log_loss\",\n",
    "                    cv=3)"
   ]
  },
  {
   "cell_type": "markdown",
   "metadata": {},
   "source": [
    "# Assignment 4"
   ]
  },
  {
   "cell_type": "markdown",
   "metadata": {},
   "source": [
    "# Neural Network Classifier"
   ]
  },
  {
   "cell_type": "code",
   "execution_count": 145,
   "metadata": {},
   "outputs": [],
   "source": [
    "from keras import Sequential\n",
    "from keras.layers import Dense"
   ]
  },
  {
   "cell_type": "code",
   "execution_count": 175,
   "metadata": {},
   "outputs": [
    {
     "data": {
      "text/plain": [
       "array([[-1.7320474 ,  0.9232282 ,  0.33493754, ...,  0.57734894,\n",
       "        -1.58492569,  0.74890454],\n",
       "       [-1.73204058,  0.9232282 ,  2.39943191, ...,  0.17388604,\n",
       "        -1.58492569,  0.34253996],\n",
       "       [-1.73203376,  0.9232282 ,  0.52848389, ...,  0.45137613,\n",
       "        -1.58492569, -1.52195631],\n",
       "       ...,\n",
       "       [ 1.73203376,  0.9232282 , -1.14891778, ..., -0.04388362,\n",
       "         0.73782734, -0.96021705],\n",
       "       [ 1.73204058,  0.9232282 ,  2.07685467, ...,  1.88495834,\n",
       "        -1.58492569,  1.3225957 ],\n",
       "       [ 1.7320474 ,  0.9232282 ,  0.1413912 , ..., -0.15323502,\n",
       "         0.22166   ,  0.91623112]])"
      ]
     },
     "execution_count": 175,
     "metadata": {},
     "output_type": "execute_result"
    }
   ],
   "source": [
    "x=result_df.drop('Response', axis = 1)\n",
    "y=result_df['Response']\n",
    "from sklearn.preprocessing import StandardScaler\n",
    "sc = StandardScaler()\n",
    "x = sc.fit_transform(x)"
   ]
  },
  {
   "cell_type": "code",
   "execution_count": 176,
   "metadata": {},
   "outputs": [],
   "source": [
    "from sklearn.model_selection import train_test_split\n",
    "from imblearn.over_sampling import SMOTE\n",
    "train_features, test_features, train_labels, test_labels = train_test_split(x, y, test_size = 0.3)\n",
    "nr = SMOTE()\n",
    "train_features, train_labels = nr.fit_sample(train_features, train_labels)"
   ]
  },
  {
   "cell_type": "code",
   "execution_count": 177,
   "metadata": {},
   "outputs": [
    {
     "name": "stdout",
     "output_type": "stream",
     "text": [
      "Training Features Shape: (645986, 11)\n",
      "Training Labels Shape: (645986,)\n",
      "Testing Features Shape: (152444, 11)\n",
      "Testing Labels Shape: (152444,)\n"
     ]
    }
   ],
   "source": [
    "print('Training Features Shape:', train_features.shape)\n",
    "print('Training Labels Shape:', train_labels.shape)\n",
    "print('Testing Features Shape:', test_features.shape)\n",
    "print('Testing Labels Shape:', test_labels.shape)"
   ]
  },
  {
   "cell_type": "code",
   "execution_count": 178,
   "metadata": {},
   "outputs": [],
   "source": [
    "def build_model():    \n",
    "    classifier = Sequential()\n",
    "    classifier.add(Dense(6, activation='relu', kernel_initializer='random_normal', input_dim=11))\n",
    "    classifier.add(Dense(6, activation='relu', kernel_initializer='random_normal'))\n",
    "    classifier.add(Dense(1, activation='sigmoid', kernel_initializer='random_normal'))\n",
    "    classifier.compile(optimizer ='adam',loss='binary_crossentropy', metrics =['accuracy'])\n",
    "    return classifier"
   ]
  },
  {
   "cell_type": "code",
   "execution_count": 179,
   "metadata": {},
   "outputs": [
    {
     "name": "stdout",
     "output_type": "stream",
     "text": [
      "Epoch 1/100\n",
      "10094/10094 [==============================] - 18s 2ms/step - loss: 0.3732 - accuracy: 0.8395\n",
      "Epoch 2/100\n",
      "10094/10094 [==============================] - 17s 2ms/step - loss: 0.3552 - accuracy: 0.8455\n",
      "Epoch 3/100\n",
      "10094/10094 [==============================] - 17s 2ms/step - loss: 0.3527 - accuracy: 0.8465\n",
      "Epoch 4/100\n",
      "10094/10094 [==============================] - 17s 2ms/step - loss: 0.3516 - accuracy: 0.8468\n",
      "Epoch 5/100\n",
      "10094/10094 [==============================] - ETA: 0s - loss: 0.3507 - accuracy: 0.84 - 17s 2ms/step - loss: 0.3508 - accuracy: 0.8470\n",
      "Epoch 6/100\n",
      "10094/10094 [==============================] - 17s 2ms/step - loss: 0.3503 - accuracy: 0.8471\n",
      "Epoch 7/100\n",
      "10094/10094 [==============================] - 17s 2ms/step - loss: 0.3500 - accuracy: 0.8471\n",
      "Epoch 8/100\n",
      "10094/10094 [==============================] - 17s 2ms/step - loss: 0.3499 - accuracy: 0.8474\n",
      "Epoch 9/100\n",
      "10094/10094 [==============================] - 17s 2ms/step - loss: 0.3496 - accuracy: 0.8475\n",
      "Epoch 10/100\n",
      "10094/10094 [==============================] - 17s 2ms/step - loss: 0.3495 - accuracy: 0.8472\n",
      "Epoch 11/100\n",
      "10094/10094 [==============================] - 17s 2ms/step - loss: 0.3493 - accuracy: 0.8473\n",
      "Epoch 12/100\n",
      "10094/10094 [==============================] - 17s 2ms/step - loss: 0.3493 - accuracy: 0.8475\n",
      "Epoch 13/100\n",
      "10094/10094 [==============================] - 17s 2ms/step - loss: 0.3492 - accuracy: 0.8475\n",
      "Epoch 14/100\n",
      "10094/10094 [==============================] - 17s 2ms/step - loss: 0.3492 - accuracy: 0.8473\n",
      "Epoch 15/100\n",
      "10094/10094 [==============================] - 18s 2ms/step - loss: 0.3492 - accuracy: 0.8475\n",
      "Epoch 16/100\n",
      "10094/10094 [==============================] - 17s 2ms/step - loss: 0.3491 - accuracy: 0.8475\n",
      "Epoch 17/100\n",
      "10094/10094 [==============================] - 17s 2ms/step - loss: 0.3489 - accuracy: 0.8478\n",
      "Epoch 18/100\n",
      "10094/10094 [==============================] - 17s 2ms/step - loss: 0.3489 - accuracy: 0.8478\n",
      "Epoch 19/100\n",
      "10094/10094 [==============================] - 17s 2ms/step - loss: 0.3488 - accuracy: 0.8478\n",
      "Epoch 20/100\n",
      "10094/10094 [==============================] - 18s 2ms/step - loss: 0.3488 - accuracy: 0.8477\n",
      "Epoch 21/100\n",
      "10094/10094 [==============================] - 17s 2ms/step - loss: 0.3488 - accuracy: 0.8478\n",
      "Epoch 22/100\n",
      "10094/10094 [==============================] - 18s 2ms/step - loss: 0.3487 - accuracy: 0.8479\n",
      "Epoch 23/100\n",
      "10094/10094 [==============================] - 17s 2ms/step - loss: 0.3485 - accuracy: 0.8480\n",
      "Epoch 24/100\n",
      "10094/10094 [==============================] - 17s 2ms/step - loss: 0.3485 - accuracy: 0.8479\n",
      "Epoch 25/100\n",
      "10094/10094 [==============================] - ETA: 0s - loss: 0.3484 - accuracy: 0.84 - 17s 2ms/step - loss: 0.3485 - accuracy: 0.8481\n",
      "Epoch 26/100\n",
      "10094/10094 [==============================] - 17s 2ms/step - loss: 0.3484 - accuracy: 0.8480\n",
      "Epoch 27/100\n",
      "10094/10094 [==============================] - 17s 2ms/step - loss: 0.3484 - accuracy: 0.8479\n",
      "Epoch 28/100\n",
      "10094/10094 [==============================] - 17s 2ms/step - loss: 0.3484 - accuracy: 0.8480\n",
      "Epoch 29/100\n",
      "10094/10094 [==============================] - 17s 2ms/step - loss: 0.3483 - accuracy: 0.8480\n",
      "Epoch 30/100\n",
      "10094/10094 [==============================] - 17s 2ms/step - loss: 0.3484 - accuracy: 0.8480\n",
      "Epoch 31/100\n",
      "10094/10094 [==============================] - 17s 2ms/step - loss: 0.3484 - accuracy: 0.8481\n",
      "Epoch 32/100\n",
      "10094/10094 [==============================] - 18s 2ms/step - loss: 0.3484 - accuracy: 0.8479\n",
      "Epoch 33/100\n",
      "10094/10094 [==============================] - 17s 2ms/step - loss: 0.3483 - accuracy: 0.8481\n",
      "Epoch 34/100\n",
      "10094/10094 [==============================] - 17s 2ms/step - loss: 0.3483 - accuracy: 0.8480\n",
      "Epoch 35/100\n",
      "10094/10094 [==============================] - 17s 2ms/step - loss: 0.3483 - accuracy: 0.8481\n",
      "Epoch 36/100\n",
      "10094/10094 [==============================] - 17s 2ms/step - loss: 0.3483 - accuracy: 0.8478\n",
      "Epoch 37/100\n",
      "10094/10094 [==============================] - 17s 2ms/step - loss: 0.3482 - accuracy: 0.8479\n",
      "Epoch 38/100\n",
      "10094/10094 [==============================] - 17s 2ms/step - loss: 0.3483 - accuracy: 0.8481\n",
      "Epoch 39/100\n",
      "10094/10094 [==============================] - 18s 2ms/step - loss: 0.3482 - accuracy: 0.8482\n",
      "Epoch 40/100\n",
      "10094/10094 [==============================] - 18s 2ms/step - loss: 0.3482 - accuracy: 0.8482\n",
      "Epoch 41/100\n",
      "10094/10094 [==============================] - 17s 2ms/step - loss: 0.3482 - accuracy: 0.8481\n",
      "Epoch 42/100\n",
      "10094/10094 [==============================] - 17s 2ms/step - loss: 0.3481 - accuracy: 0.8481\n",
      "Epoch 43/100\n",
      "10094/10094 [==============================] - 18s 2ms/step - loss: 0.3481 - accuracy: 0.8482\n",
      "Epoch 44/100\n",
      "10094/10094 [==============================] - 17s 2ms/step - loss: 0.3481 - accuracy: 0.8481\n",
      "Epoch 45/100\n",
      "10094/10094 [==============================] - 17s 2ms/step - loss: 0.3480 - accuracy: 0.8483\n",
      "Epoch 46/100\n",
      "10094/10094 [==============================] - 17s 2ms/step - loss: 0.3480 - accuracy: 0.8481\n",
      "Epoch 47/100\n",
      "10094/10094 [==============================] - 17s 2ms/step - loss: 0.3481 - accuracy: 0.8482\n",
      "Epoch 48/100\n",
      "10094/10094 [==============================] - 17s 2ms/step - loss: 0.3480 - accuracy: 0.8482\n",
      "Epoch 49/100\n",
      "10094/10094 [==============================] - 17s 2ms/step - loss: 0.3481 - accuracy: 0.8482\n",
      "Epoch 50/100\n",
      "10094/10094 [==============================] - 17s 2ms/step - loss: 0.3479 - accuracy: 0.8483\n",
      "Epoch 51/100\n",
      "10094/10094 [==============================] - 17s 2ms/step - loss: 0.3480 - accuracy: 0.8483\n",
      "Epoch 52/100\n",
      "10094/10094 [==============================] - 17s 2ms/step - loss: 0.3480 - accuracy: 0.8482\n",
      "Epoch 53/100\n",
      "10094/10094 [==============================] - 17s 2ms/step - loss: 0.3480 - accuracy: 0.8481\n",
      "Epoch 54/100\n",
      "10094/10094 [==============================] - 18s 2ms/step - loss: 0.3480 - accuracy: 0.8482\n",
      "Epoch 55/100\n",
      "10094/10094 [==============================] - 17s 2ms/step - loss: 0.3480 - accuracy: 0.8483\n",
      "Epoch 56/100\n",
      "10094/10094 [==============================] - 17s 2ms/step - loss: 0.3480 - accuracy: 0.8483\n",
      "Epoch 57/100\n",
      "10094/10094 [==============================] - 17s 2ms/step - loss: 0.3479 - accuracy: 0.8482\n",
      "Epoch 58/100\n",
      "10094/10094 [==============================] - 18s 2ms/step - loss: 0.3480 - accuracy: 0.8483\n",
      "Epoch 59/100\n",
      "10094/10094 [==============================] - 17s 2ms/step - loss: 0.3479 - accuracy: 0.8481\n",
      "Epoch 60/100\n",
      "10094/10094 [==============================] - 17s 2ms/step - loss: 0.3480 - accuracy: 0.8484\n",
      "Epoch 61/100\n",
      "10094/10094 [==============================] - 18s 2ms/step - loss: 0.3480 - accuracy: 0.8483\n",
      "Epoch 62/100\n",
      "10094/10094 [==============================] - 18s 2ms/step - loss: 0.3479 - accuracy: 0.8483\n",
      "Epoch 63/100\n",
      "10094/10094 [==============================] - 18s 2ms/step - loss: 0.3479 - accuracy: 0.8484\n",
      "Epoch 64/100\n",
      "10094/10094 [==============================] - 18s 2ms/step - loss: 0.3479 - accuracy: 0.8483\n",
      "Epoch 65/100\n",
      "10094/10094 [==============================] - 17s 2ms/step - loss: 0.3479 - accuracy: 0.8483\n",
      "Epoch 66/100\n",
      "10094/10094 [==============================] - 17s 2ms/step - loss: 0.3479 - accuracy: 0.8482\n",
      "Epoch 67/100\n",
      "10094/10094 [==============================] - 17s 2ms/step - loss: 0.3479 - accuracy: 0.8482\n",
      "Epoch 68/100\n",
      "10094/10094 [==============================] - 17s 2ms/step - loss: 0.3478 - accuracy: 0.8482\n",
      "Epoch 69/100\n",
      "10094/10094 [==============================] - 17s 2ms/step - loss: 0.3479 - accuracy: 0.8484\n",
      "Epoch 70/100\n",
      "10094/10094 [==============================] - 17s 2ms/step - loss: 0.3478 - accuracy: 0.8484\n",
      "Epoch 71/100\n",
      "10094/10094 [==============================] - 18s 2ms/step - loss: 0.3478 - accuracy: 0.8484\n",
      "Epoch 72/100\n",
      "10094/10094 [==============================] - 17s 2ms/step - loss: 0.3478 - accuracy: 0.8483\n",
      "Epoch 73/100\n",
      "10094/10094 [==============================] - 18s 2ms/step - loss: 0.3478 - accuracy: 0.8485\n",
      "Epoch 74/100\n",
      "10094/10094 [==============================] - 17s 2ms/step - loss: 0.3478 - accuracy: 0.8484\n",
      "Epoch 75/100\n",
      "10094/10094 [==============================] - 17s 2ms/step - loss: 0.3479 - accuracy: 0.8483\n",
      "Epoch 76/100\n",
      "10094/10094 [==============================] - 18s 2ms/step - loss: 0.3478 - accuracy: 0.8483\n",
      "Epoch 77/100\n",
      "10094/10094 [==============================] - 18s 2ms/step - loss: 0.3478 - accuracy: 0.8484\n",
      "Epoch 78/100\n",
      "10094/10094 [==============================] - 18s 2ms/step - loss: 0.3478 - accuracy: 0.8485\n",
      "Epoch 79/100\n",
      "10094/10094 [==============================] - 18s 2ms/step - loss: 0.3478 - accuracy: 0.8483\n",
      "Epoch 80/100\n",
      "10094/10094 [==============================] - 18s 2ms/step - loss: 0.3478 - accuracy: 0.8486\n",
      "Epoch 81/100\n",
      "10094/10094 [==============================] - 17s 2ms/step - loss: 0.3478 - accuracy: 0.8484\n",
      "Epoch 82/100\n",
      "10094/10094 [==============================] - 17s 2ms/step - loss: 0.3477 - accuracy: 0.8482\n",
      "Epoch 83/100\n",
      "10094/10094 [==============================] - 18s 2ms/step - loss: 0.3478 - accuracy: 0.8485\n",
      "Epoch 84/100\n",
      "10094/10094 [==============================] - 17s 2ms/step - loss: 0.3478 - accuracy: 0.8484\n",
      "Epoch 85/100\n",
      "10094/10094 [==============================] - 18s 2ms/step - loss: 0.3477 - accuracy: 0.8484\n",
      "Epoch 86/100\n",
      "10094/10094 [==============================] - 18s 2ms/step - loss: 0.3478 - accuracy: 0.8485\n",
      "Epoch 87/100\n",
      "10094/10094 [==============================] - 18s 2ms/step - loss: 0.3478 - accuracy: 0.8484\n",
      "Epoch 88/100\n",
      "10094/10094 [==============================] - 17s 2ms/step - loss: 0.3478 - accuracy: 0.8484\n",
      "Epoch 89/100\n",
      "10094/10094 [==============================] - 18s 2ms/step - loss: 0.3478 - accuracy: 0.8483\n",
      "Epoch 90/100\n",
      "10094/10094 [==============================] - 18s 2ms/step - loss: 0.3478 - accuracy: 0.8483\n",
      "Epoch 91/100\n",
      "10094/10094 [==============================] - 19s 2ms/step - loss: 0.3478 - accuracy: 0.8483\n",
      "Epoch 92/100\n",
      "10094/10094 [==============================] - 18s 2ms/step - loss: 0.3478 - accuracy: 0.8484\n",
      "Epoch 93/100\n",
      "10094/10094 [==============================] - 18s 2ms/step - loss: 0.3478 - accuracy: 0.8484\n",
      "Epoch 94/100\n",
      "10094/10094 [==============================] - 18s 2ms/step - loss: 0.3477 - accuracy: 0.8483\n",
      "Epoch 95/100\n",
      "10094/10094 [==============================] - 18s 2ms/step - loss: 0.3477 - accuracy: 0.8485\n",
      "Epoch 96/100\n",
      "10094/10094 [==============================] - 18s 2ms/step - loss: 0.3478 - accuracy: 0.8484\n",
      "Epoch 97/100\n",
      "10094/10094 [==============================] - 18s 2ms/step - loss: 0.3477 - accuracy: 0.8483\n",
      "Epoch 98/100\n",
      "10094/10094 [==============================] - 18s 2ms/step - loss: 0.3478 - accuracy: 0.8483\n",
      "Epoch 99/100\n",
      "10094/10094 [==============================] - 17s 2ms/step - loss: 0.3478 - accuracy: 0.8483\n",
      "Epoch 100/100\n",
      "10094/10094 [==============================] - 17s 2ms/step - loss: 0.3477 - accuracy: 0.8484\n"
     ]
    },
    {
     "data": {
      "text/plain": [
       "<tensorflow.python.keras.callbacks.History at 0x22535d4b970>"
      ]
     },
     "execution_count": 179,
     "metadata": {},
     "output_type": "execute_result"
    }
   ],
   "source": [
    "keras_model = build_model()\n",
    "keras_model.fit(train_features,train_labels, batch_size=64, epochs=100)"
   ]
  },
  {
   "cell_type": "code",
   "execution_count": 180,
   "metadata": {},
   "outputs": [
    {
     "name": "stdout",
     "output_type": "stream",
     "text": [
      "20188/20188 [==============================] - 27s 1ms/step - loss: 0.3473 - accuracy: 0.8489\n"
     ]
    },
    {
     "data": {
      "text/plain": [
       "[0.3473452925682068, 0.8488852977752686]"
      ]
     },
     "execution_count": 180,
     "metadata": {},
     "output_type": "execute_result"
    }
   ],
   "source": [
    "eval_model=keras_model.evaluate(train_features, train_labels)\n",
    "eval_model"
   ]
  },
  {
   "cell_type": "code",
   "execution_count": 181,
   "metadata": {},
   "outputs": [],
   "source": [
    "y_pred=keras_model.predict(test_features)\n",
    "y_pred =(y_pred>0.5)"
   ]
  },
  {
   "cell_type": "code",
   "execution_count": 182,
   "metadata": {},
   "outputs": [
    {
     "name": "stdout",
     "output_type": "stream",
     "text": [
      "Accuracy: 0.7517514628322531\n",
      "Precision: 0.2627609400807944\n",
      "Recall: 0.943075494607528\n",
      "[[101396  37047]\n",
      " [   797  13204]]\n"
     ]
    }
   ],
   "source": [
    "print(\"Accuracy:\",metrics.accuracy_score(test_labels, y_pred))\n",
    "print(\"Precision:\",metrics.precision_score(test_labels, y_pred))\n",
    "print(\"Recall:\",metrics.recall_score(test_labels, y_pred))\n",
    "cm = confusion_matrix(test_labels, y_pred)\n",
    "print(cm)"
   ]
  },
  {
   "cell_type": "code",
   "execution_count": 183,
   "metadata": {},
   "outputs": [
    {
     "data": {
      "image/png": "[encoded data removed]",
      "text/plain": [
       "<Figure size 432x288 with 1 Axes>"
      ]
     },
     "metadata": {
      "needs_background": "light"
     },
     "output_type": "display_data"
    }
   ],
   "source": [
    "from keras.wrappers.scikit_learn import KerasClassifier\n",
    "from sklearn.metrics import auc\n",
    "from sklearn.metrics import roc_curve\n",
    "y_pred_keras = keras_model.predict(test_features).ravel()\n",
    "fpr_keras, tpr_keras, thresholds_keras = roc_curve(test_labels, y_pred_keras)\n",
    "auc_keras = auc(fpr_keras, tpr_keras)\n",
    "plt.plot(fpr_keras,tpr_keras,label=\"data 1, auc=\"+str(auc_keras))\n",
    "plt.legend(loc=4)\n",
    "plt.title(\"ROC_AUC Curve\")\n",
    "plt.xlabel(\"False Positive Rate\")\n",
    "plt.ylabel(\"True Positive Rate\")\n",
    "plt.show()"
   ]
  }
 ],
 "metadata": {
  "kernelspec": {
   "display_name": "Python 3",
   "language": "python",
   "name": "python3"
  },
  "language_info": {
   "codemirror_mode": {
    "name": "ipython",
    "version": 3
   },
   "file_extension": ".py",
   "mimetype": "text/x-python",
   "name": "python",
   "nbconvert_exporter": "python",
   "pygments_lexer": "ipython3",
   "version": "3.7.3"
  }
 },
 "nbformat": 4,
 "nbformat_minor": 4
}
